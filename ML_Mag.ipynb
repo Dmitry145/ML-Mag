{
  "nbformat": 4,
  "nbformat_minor": 0,
  "metadata": {
    "colab": {
      "provenance": []
    },
    "kernelspec": {
      "name": "python3",
      "display_name": "Python 3"
    },
    "language_info": {
      "name": "python"
    }
  },
  "cells": [
    {
      "cell_type": "markdown",
      "source": [
        "##0.Описание задачи.\n",
        "Выбранный датасет используется для предсказания будущего инсульта у человека по следующим данным о нем:\n",
        "\n",
        "\n",
        "*   Идентификатор(id)\n",
        "*   Пол(gender)\n",
        "*   Возраст(age)\n",
        "*   Наличие у человека гипертензии(hypertension) - 0 если нет, 1 если да\n",
        "*   Наличие у человека сердечных заболеваний(heart_disease) - 0 если нет, 1 если да\n",
        "*   Был ли человек когда-либо женат(ever_married) - \"No\" или \"Yes\"\n",
        "*   Тип работы человека(work_type) - \"children\", \"Govt_jov\", \"Never_worked\", \"Private\" или \"Self-employed\"\n",
        "*  Расположение жилища(Residence_type) - \"Rural\" или \"Urban\"\n",
        "*   Уровень глюкозыв крови человека(avg_glucose_level)\n",
        "*   Индекс массы тела(bmi)\n",
        "*   Как часто человек курит(smoking_status) - \"formerly smoked\", \"never smoked\", \"smokes\" или \"Unknown\"\n",
        "\n",
        "Классификация бинарная. За классы отвечает стобец stroke? 0 - у пациента не было инсульта, 1 - у пациента был инсульт.\n",
        "\n",
        "\n",
        "\n"
      ],
      "metadata": {
        "id": "YRPkUtljwKhj"
      }
    },
    {
      "cell_type": "markdown",
      "source": [
        "##1.Считывание данных."
      ],
      "metadata": {
        "id": "2_IB4AhciMNw"
      }
    },
    {
      "cell_type": "code",
      "source": [
        "import sys\n",
        "import numpy as np              # Одномерные и многомерные массивы (array)\n",
        "import pandas as pd             # Таблицы и временные ряды (dataframe, series)\n",
        "import matplotlib.pyplot as plt # Научная графика\n",
        "import seaborn as sns           # Еще больше красивой графики для визуализации данных\n",
        "import sklearn                  # Алгоритмы машинного обучения"
      ],
      "metadata": {
        "id": "yr7BRtTfwL5l"
      },
      "execution_count": 174,
      "outputs": []
    },
    {
      "cell_type": "code",
      "source": [
        "url = \"https://raw.githubusercontent.com/Dmitry145/ML-Mag/main/healthcare-dataset-stroke-data.csv\"\n",
        "data = pd.read_csv(url)"
      ],
      "metadata": {
        "id": "NTomc3pqoiCM"
      },
      "execution_count": 175,
      "outputs": []
    },
    {
      "cell_type": "code",
      "source": [
        "data"
      ],
      "metadata": {
        "colab": {
          "base_uri": "https://localhost:8080/",
          "height": 424
        },
        "id": "MWQhn77Wp5XQ",
        "outputId": "83b1d0ca-c59a-4d8e-e39e-96d90cba16f9"
      },
      "execution_count": 176,
      "outputs": [
        {
          "output_type": "execute_result",
          "data": {
            "text/plain": [
              "         id  gender   age  hypertension  heart_disease ever_married  \\\n",
              "0      9046    Male  67.0             0              1          Yes   \n",
              "1     51676  Female  61.0             0              0          Yes   \n",
              "2     31112    Male  80.0             0              1          Yes   \n",
              "3     60182  Female  49.0             0              0          Yes   \n",
              "4      1665  Female  79.0             1              0          Yes   \n",
              "...     ...     ...   ...           ...            ...          ...   \n",
              "5105  18234  Female  80.0             1              0          Yes   \n",
              "5106  44873  Female  81.0             0              0          Yes   \n",
              "5107  19723  Female  35.0             0              0          Yes   \n",
              "5108  37544    Male  51.0             0              0          Yes   \n",
              "5109  44679  Female  44.0             0              0          Yes   \n",
              "\n",
              "          work_type Residence_type  avg_glucose_level   bmi   smoking_status  \\\n",
              "0           Private          Urban             228.69  36.6  formerly smoked   \n",
              "1     Self-employed          Rural             202.21   NaN     never smoked   \n",
              "2           Private          Rural             105.92  32.5     never smoked   \n",
              "3           Private          Urban             171.23  34.4           smokes   \n",
              "4     Self-employed          Rural             174.12  24.0     never smoked   \n",
              "...             ...            ...                ...   ...              ...   \n",
              "5105        Private          Urban              83.75   NaN     never smoked   \n",
              "5106  Self-employed          Urban             125.20  40.0     never smoked   \n",
              "5107  Self-employed          Rural              82.99  30.6     never smoked   \n",
              "5108        Private          Rural             166.29  25.6  formerly smoked   \n",
              "5109       Govt_job          Urban              85.28  26.2          Unknown   \n",
              "\n",
              "      stroke  \n",
              "0          1  \n",
              "1          1  \n",
              "2          1  \n",
              "3          1  \n",
              "4          1  \n",
              "...      ...  \n",
              "5105       0  \n",
              "5106       0  \n",
              "5107       0  \n",
              "5108       0  \n",
              "5109       0  \n",
              "\n",
              "[5110 rows x 12 columns]"
            ],
            "text/html": [
              "\n",
              "  <div id=\"df-8cfb101e-917b-4bc3-9192-1bf978f77598\" class=\"colab-df-container\">\n",
              "    <div>\n",
              "<style scoped>\n",
              "    .dataframe tbody tr th:only-of-type {\n",
              "        vertical-align: middle;\n",
              "    }\n",
              "\n",
              "    .dataframe tbody tr th {\n",
              "        vertical-align: top;\n",
              "    }\n",
              "\n",
              "    .dataframe thead th {\n",
              "        text-align: right;\n",
              "    }\n",
              "</style>\n",
              "<table border=\"1\" class=\"dataframe\">\n",
              "  <thead>\n",
              "    <tr style=\"text-align: right;\">\n",
              "      <th></th>\n",
              "      <th>id</th>\n",
              "      <th>gender</th>\n",
              "      <th>age</th>\n",
              "      <th>hypertension</th>\n",
              "      <th>heart_disease</th>\n",
              "      <th>ever_married</th>\n",
              "      <th>work_type</th>\n",
              "      <th>Residence_type</th>\n",
              "      <th>avg_glucose_level</th>\n",
              "      <th>bmi</th>\n",
              "      <th>smoking_status</th>\n",
              "      <th>stroke</th>\n",
              "    </tr>\n",
              "  </thead>\n",
              "  <tbody>\n",
              "    <tr>\n",
              "      <th>0</th>\n",
              "      <td>9046</td>\n",
              "      <td>Male</td>\n",
              "      <td>67.0</td>\n",
              "      <td>0</td>\n",
              "      <td>1</td>\n",
              "      <td>Yes</td>\n",
              "      <td>Private</td>\n",
              "      <td>Urban</td>\n",
              "      <td>228.69</td>\n",
              "      <td>36.6</td>\n",
              "      <td>formerly smoked</td>\n",
              "      <td>1</td>\n",
              "    </tr>\n",
              "    <tr>\n",
              "      <th>1</th>\n",
              "      <td>51676</td>\n",
              "      <td>Female</td>\n",
              "      <td>61.0</td>\n",
              "      <td>0</td>\n",
              "      <td>0</td>\n",
              "      <td>Yes</td>\n",
              "      <td>Self-employed</td>\n",
              "      <td>Rural</td>\n",
              "      <td>202.21</td>\n",
              "      <td>NaN</td>\n",
              "      <td>never smoked</td>\n",
              "      <td>1</td>\n",
              "    </tr>\n",
              "    <tr>\n",
              "      <th>2</th>\n",
              "      <td>31112</td>\n",
              "      <td>Male</td>\n",
              "      <td>80.0</td>\n",
              "      <td>0</td>\n",
              "      <td>1</td>\n",
              "      <td>Yes</td>\n",
              "      <td>Private</td>\n",
              "      <td>Rural</td>\n",
              "      <td>105.92</td>\n",
              "      <td>32.5</td>\n",
              "      <td>never smoked</td>\n",
              "      <td>1</td>\n",
              "    </tr>\n",
              "    <tr>\n",
              "      <th>3</th>\n",
              "      <td>60182</td>\n",
              "      <td>Female</td>\n",
              "      <td>49.0</td>\n",
              "      <td>0</td>\n",
              "      <td>0</td>\n",
              "      <td>Yes</td>\n",
              "      <td>Private</td>\n",
              "      <td>Urban</td>\n",
              "      <td>171.23</td>\n",
              "      <td>34.4</td>\n",
              "      <td>smokes</td>\n",
              "      <td>1</td>\n",
              "    </tr>\n",
              "    <tr>\n",
              "      <th>4</th>\n",
              "      <td>1665</td>\n",
              "      <td>Female</td>\n",
              "      <td>79.0</td>\n",
              "      <td>1</td>\n",
              "      <td>0</td>\n",
              "      <td>Yes</td>\n",
              "      <td>Self-employed</td>\n",
              "      <td>Rural</td>\n",
              "      <td>174.12</td>\n",
              "      <td>24.0</td>\n",
              "      <td>never smoked</td>\n",
              "      <td>1</td>\n",
              "    </tr>\n",
              "    <tr>\n",
              "      <th>...</th>\n",
              "      <td>...</td>\n",
              "      <td>...</td>\n",
              "      <td>...</td>\n",
              "      <td>...</td>\n",
              "      <td>...</td>\n",
              "      <td>...</td>\n",
              "      <td>...</td>\n",
              "      <td>...</td>\n",
              "      <td>...</td>\n",
              "      <td>...</td>\n",
              "      <td>...</td>\n",
              "      <td>...</td>\n",
              "    </tr>\n",
              "    <tr>\n",
              "      <th>5105</th>\n",
              "      <td>18234</td>\n",
              "      <td>Female</td>\n",
              "      <td>80.0</td>\n",
              "      <td>1</td>\n",
              "      <td>0</td>\n",
              "      <td>Yes</td>\n",
              "      <td>Private</td>\n",
              "      <td>Urban</td>\n",
              "      <td>83.75</td>\n",
              "      <td>NaN</td>\n",
              "      <td>never smoked</td>\n",
              "      <td>0</td>\n",
              "    </tr>\n",
              "    <tr>\n",
              "      <th>5106</th>\n",
              "      <td>44873</td>\n",
              "      <td>Female</td>\n",
              "      <td>81.0</td>\n",
              "      <td>0</td>\n",
              "      <td>0</td>\n",
              "      <td>Yes</td>\n",
              "      <td>Self-employed</td>\n",
              "      <td>Urban</td>\n",
              "      <td>125.20</td>\n",
              "      <td>40.0</td>\n",
              "      <td>never smoked</td>\n",
              "      <td>0</td>\n",
              "    </tr>\n",
              "    <tr>\n",
              "      <th>5107</th>\n",
              "      <td>19723</td>\n",
              "      <td>Female</td>\n",
              "      <td>35.0</td>\n",
              "      <td>0</td>\n",
              "      <td>0</td>\n",
              "      <td>Yes</td>\n",
              "      <td>Self-employed</td>\n",
              "      <td>Rural</td>\n",
              "      <td>82.99</td>\n",
              "      <td>30.6</td>\n",
              "      <td>never smoked</td>\n",
              "      <td>0</td>\n",
              "    </tr>\n",
              "    <tr>\n",
              "      <th>5108</th>\n",
              "      <td>37544</td>\n",
              "      <td>Male</td>\n",
              "      <td>51.0</td>\n",
              "      <td>0</td>\n",
              "      <td>0</td>\n",
              "      <td>Yes</td>\n",
              "      <td>Private</td>\n",
              "      <td>Rural</td>\n",
              "      <td>166.29</td>\n",
              "      <td>25.6</td>\n",
              "      <td>formerly smoked</td>\n",
              "      <td>0</td>\n",
              "    </tr>\n",
              "    <tr>\n",
              "      <th>5109</th>\n",
              "      <td>44679</td>\n",
              "      <td>Female</td>\n",
              "      <td>44.0</td>\n",
              "      <td>0</td>\n",
              "      <td>0</td>\n",
              "      <td>Yes</td>\n",
              "      <td>Govt_job</td>\n",
              "      <td>Urban</td>\n",
              "      <td>85.28</td>\n",
              "      <td>26.2</td>\n",
              "      <td>Unknown</td>\n",
              "      <td>0</td>\n",
              "    </tr>\n",
              "  </tbody>\n",
              "</table>\n",
              "<p>5110 rows × 12 columns</p>\n",
              "</div>\n",
              "    <div class=\"colab-df-buttons\">\n",
              "\n",
              "  <div class=\"colab-df-container\">\n",
              "    <button class=\"colab-df-convert\" onclick=\"convertToInteractive('df-8cfb101e-917b-4bc3-9192-1bf978f77598')\"\n",
              "            title=\"Convert this dataframe to an interactive table.\"\n",
              "            style=\"display:none;\">\n",
              "\n",
              "  <svg xmlns=\"http://www.w3.org/2000/svg\" height=\"24px\" viewBox=\"0 -960 960 960\">\n",
              "    <path d=\"M120-120v-720h720v720H120Zm60-500h600v-160H180v160Zm220 220h160v-160H400v160Zm0 220h160v-160H400v160ZM180-400h160v-160H180v160Zm440 0h160v-160H620v160ZM180-180h160v-160H180v160Zm440 0h160v-160H620v160Z\"/>\n",
              "  </svg>\n",
              "    </button>\n",
              "\n",
              "  <style>\n",
              "    .colab-df-container {\n",
              "      display:flex;\n",
              "      gap: 12px;\n",
              "    }\n",
              "\n",
              "    .colab-df-convert {\n",
              "      background-color: #E8F0FE;\n",
              "      border: none;\n",
              "      border-radius: 50%;\n",
              "      cursor: pointer;\n",
              "      display: none;\n",
              "      fill: #1967D2;\n",
              "      height: 32px;\n",
              "      padding: 0 0 0 0;\n",
              "      width: 32px;\n",
              "    }\n",
              "\n",
              "    .colab-df-convert:hover {\n",
              "      background-color: #E2EBFA;\n",
              "      box-shadow: 0px 1px 2px rgba(60, 64, 67, 0.3), 0px 1px 3px 1px rgba(60, 64, 67, 0.15);\n",
              "      fill: #174EA6;\n",
              "    }\n",
              "\n",
              "    .colab-df-buttons div {\n",
              "      margin-bottom: 4px;\n",
              "    }\n",
              "\n",
              "    [theme=dark] .colab-df-convert {\n",
              "      background-color: #3B4455;\n",
              "      fill: #D2E3FC;\n",
              "    }\n",
              "\n",
              "    [theme=dark] .colab-df-convert:hover {\n",
              "      background-color: #434B5C;\n",
              "      box-shadow: 0px 1px 3px 1px rgba(0, 0, 0, 0.15);\n",
              "      filter: drop-shadow(0px 1px 2px rgba(0, 0, 0, 0.3));\n",
              "      fill: #FFFFFF;\n",
              "    }\n",
              "  </style>\n",
              "\n",
              "    <script>\n",
              "      const buttonEl =\n",
              "        document.querySelector('#df-8cfb101e-917b-4bc3-9192-1bf978f77598 button.colab-df-convert');\n",
              "      buttonEl.style.display =\n",
              "        google.colab.kernel.accessAllowed ? 'block' : 'none';\n",
              "\n",
              "      async function convertToInteractive(key) {\n",
              "        const element = document.querySelector('#df-8cfb101e-917b-4bc3-9192-1bf978f77598');\n",
              "        const dataTable =\n",
              "          await google.colab.kernel.invokeFunction('convertToInteractive',\n",
              "                                                    [key], {});\n",
              "        if (!dataTable) return;\n",
              "\n",
              "        const docLinkHtml = 'Like what you see? Visit the ' +\n",
              "          '<a target=\"_blank\" href=https://colab.research.google.com/notebooks/data_table.ipynb>data table notebook</a>'\n",
              "          + ' to learn more about interactive tables.';\n",
              "        element.innerHTML = '';\n",
              "        dataTable['output_type'] = 'display_data';\n",
              "        await google.colab.output.renderOutput(dataTable, element);\n",
              "        const docLink = document.createElement('div');\n",
              "        docLink.innerHTML = docLinkHtml;\n",
              "        element.appendChild(docLink);\n",
              "      }\n",
              "    </script>\n",
              "  </div>\n",
              "\n",
              "\n",
              "<div id=\"df-33e25a7b-801c-4468-83f1-bfec510c933b\">\n",
              "  <button class=\"colab-df-quickchart\" onclick=\"quickchart('df-33e25a7b-801c-4468-83f1-bfec510c933b')\"\n",
              "            title=\"Suggest charts\"\n",
              "            style=\"display:none;\">\n",
              "\n",
              "<svg xmlns=\"http://www.w3.org/2000/svg\" height=\"24px\"viewBox=\"0 0 24 24\"\n",
              "     width=\"24px\">\n",
              "    <g>\n",
              "        <path d=\"M19 3H5c-1.1 0-2 .9-2 2v14c0 1.1.9 2 2 2h14c1.1 0 2-.9 2-2V5c0-1.1-.9-2-2-2zM9 17H7v-7h2v7zm4 0h-2V7h2v10zm4 0h-2v-4h2v4z\"/>\n",
              "    </g>\n",
              "</svg>\n",
              "  </button>\n",
              "\n",
              "<style>\n",
              "  .colab-df-quickchart {\n",
              "      --bg-color: #E8F0FE;\n",
              "      --fill-color: #1967D2;\n",
              "      --hover-bg-color: #E2EBFA;\n",
              "      --hover-fill-color: #174EA6;\n",
              "      --disabled-fill-color: #AAA;\n",
              "      --disabled-bg-color: #DDD;\n",
              "  }\n",
              "\n",
              "  [theme=dark] .colab-df-quickchart {\n",
              "      --bg-color: #3B4455;\n",
              "      --fill-color: #D2E3FC;\n",
              "      --hover-bg-color: #434B5C;\n",
              "      --hover-fill-color: #FFFFFF;\n",
              "      --disabled-bg-color: #3B4455;\n",
              "      --disabled-fill-color: #666;\n",
              "  }\n",
              "\n",
              "  .colab-df-quickchart {\n",
              "    background-color: var(--bg-color);\n",
              "    border: none;\n",
              "    border-radius: 50%;\n",
              "    cursor: pointer;\n",
              "    display: none;\n",
              "    fill: var(--fill-color);\n",
              "    height: 32px;\n",
              "    padding: 0;\n",
              "    width: 32px;\n",
              "  }\n",
              "\n",
              "  .colab-df-quickchart:hover {\n",
              "    background-color: var(--hover-bg-color);\n",
              "    box-shadow: 0 1px 2px rgba(60, 64, 67, 0.3), 0 1px 3px 1px rgba(60, 64, 67, 0.15);\n",
              "    fill: var(--button-hover-fill-color);\n",
              "  }\n",
              "\n",
              "  .colab-df-quickchart-complete:disabled,\n",
              "  .colab-df-quickchart-complete:disabled:hover {\n",
              "    background-color: var(--disabled-bg-color);\n",
              "    fill: var(--disabled-fill-color);\n",
              "    box-shadow: none;\n",
              "  }\n",
              "\n",
              "  .colab-df-spinner {\n",
              "    border: 2px solid var(--fill-color);\n",
              "    border-color: transparent;\n",
              "    border-bottom-color: var(--fill-color);\n",
              "    animation:\n",
              "      spin 1s steps(1) infinite;\n",
              "  }\n",
              "\n",
              "  @keyframes spin {\n",
              "    0% {\n",
              "      border-color: transparent;\n",
              "      border-bottom-color: var(--fill-color);\n",
              "      border-left-color: var(--fill-color);\n",
              "    }\n",
              "    20% {\n",
              "      border-color: transparent;\n",
              "      border-left-color: var(--fill-color);\n",
              "      border-top-color: var(--fill-color);\n",
              "    }\n",
              "    30% {\n",
              "      border-color: transparent;\n",
              "      border-left-color: var(--fill-color);\n",
              "      border-top-color: var(--fill-color);\n",
              "      border-right-color: var(--fill-color);\n",
              "    }\n",
              "    40% {\n",
              "      border-color: transparent;\n",
              "      border-right-color: var(--fill-color);\n",
              "      border-top-color: var(--fill-color);\n",
              "    }\n",
              "    60% {\n",
              "      border-color: transparent;\n",
              "      border-right-color: var(--fill-color);\n",
              "    }\n",
              "    80% {\n",
              "      border-color: transparent;\n",
              "      border-right-color: var(--fill-color);\n",
              "      border-bottom-color: var(--fill-color);\n",
              "    }\n",
              "    90% {\n",
              "      border-color: transparent;\n",
              "      border-bottom-color: var(--fill-color);\n",
              "    }\n",
              "  }\n",
              "</style>\n",
              "\n",
              "  <script>\n",
              "    async function quickchart(key) {\n",
              "      const quickchartButtonEl =\n",
              "        document.querySelector('#' + key + ' button');\n",
              "      quickchartButtonEl.disabled = true;  // To prevent multiple clicks.\n",
              "      quickchartButtonEl.classList.add('colab-df-spinner');\n",
              "      try {\n",
              "        const charts = await google.colab.kernel.invokeFunction(\n",
              "            'suggestCharts', [key], {});\n",
              "      } catch (error) {\n",
              "        console.error('Error during call to suggestCharts:', error);\n",
              "      }\n",
              "      quickchartButtonEl.classList.remove('colab-df-spinner');\n",
              "      quickchartButtonEl.classList.add('colab-df-quickchart-complete');\n",
              "    }\n",
              "    (() => {\n",
              "      let quickchartButtonEl =\n",
              "        document.querySelector('#df-33e25a7b-801c-4468-83f1-bfec510c933b button');\n",
              "      quickchartButtonEl.style.display =\n",
              "        google.colab.kernel.accessAllowed ? 'block' : 'none';\n",
              "    })();\n",
              "  </script>\n",
              "</div>\n",
              "    </div>\n",
              "  </div>\n"
            ]
          },
          "metadata": {},
          "execution_count": 176
        }
      ]
    },
    {
      "cell_type": "code",
      "source": [
        "data.info()"
      ],
      "metadata": {
        "colab": {
          "base_uri": "https://localhost:8080/"
        },
        "id": "JTTZDcStp7TM",
        "outputId": "e41fd13c-5e74-4ee3-970b-af5ee54da159"
      },
      "execution_count": 177,
      "outputs": [
        {
          "output_type": "stream",
          "name": "stdout",
          "text": [
            "<class 'pandas.core.frame.DataFrame'>\n",
            "RangeIndex: 5110 entries, 0 to 5109\n",
            "Data columns (total 12 columns):\n",
            " #   Column             Non-Null Count  Dtype  \n",
            "---  ------             --------------  -----  \n",
            " 0   id                 5110 non-null   int64  \n",
            " 1   gender             5110 non-null   object \n",
            " 2   age                5110 non-null   float64\n",
            " 3   hypertension       5110 non-null   int64  \n",
            " 4   heart_disease      5110 non-null   int64  \n",
            " 5   ever_married       5110 non-null   object \n",
            " 6   work_type          5110 non-null   object \n",
            " 7   Residence_type     5110 non-null   object \n",
            " 8   avg_glucose_level  5110 non-null   float64\n",
            " 9   bmi                4909 non-null   float64\n",
            " 10  smoking_status     5110 non-null   object \n",
            " 11  stroke             5110 non-null   int64  \n",
            "dtypes: float64(3), int64(4), object(5)\n",
            "memory usage: 479.2+ KB\n"
          ]
        }
      ]
    },
    {
      "cell_type": "markdown",
      "source": [
        "##2.Визуализация данных."
      ],
      "metadata": {
        "id": "TPW6EAZNr3nn"
      }
    },
    {
      "cell_type": "markdown",
      "source": [
        "Построим диаграмму, определяющую кто чаще переносил инсульт, мужчины или женщины:"
      ],
      "metadata": {
        "id": "9tbPbEbi_DBv"
      }
    },
    {
      "cell_type": "code",
      "source": [
        "sns.set(rc={'figure.figsize':(11.7,8.27)})\n",
        "filtered_data = data[data['stroke'] == 1]\n",
        "gender_counts = filtered_data['gender'].value_counts()\n",
        "plt.pie(gender_counts, autopct='%1.1f%%', pctdistance = 0.6, labels = ['Male', 'Female'], colors = [(117/255,93/255,154/255), (255/255,160/255,0/255)])\n",
        "pass"
      ],
      "metadata": {
        "colab": {
          "base_uri": "https://localhost:8080/",
          "height": 673
        },
        "id": "57PaJQX9BwGh",
        "outputId": "f55c7b1e-b290-4750-83d0-7a44a91668af"
      },
      "execution_count": 178,
      "outputs": [
        {
          "output_type": "display_data",
          "data": {
            "text/plain": [
              "<Figure size 1170x827 with 1 Axes>"
            ],
            "image/png": "[encoded data removed]"
          },
          "metadata": {}
        }
      ]
    },
    {
      "cell_type": "markdown",
      "source": [
        "Видно, что у мужчин, согласно этим данным, инсульт случается немного чаще, чем у женщин."
      ],
      "metadata": {
        "id": "Dvh1fph1ETEJ"
      }
    },
    {
      "cell_type": "markdown",
      "source": [
        "Посмотрим на количество курящих:"
      ],
      "metadata": {
        "id": "6SgXfibFGGXl"
      }
    },
    {
      "cell_type": "code",
      "source": [
        "sns.countplot(data = data, x='smoking_status', palette='bright')"
      ],
      "metadata": {
        "colab": {
          "base_uri": "https://localhost:8080/",
          "height": 742
        },
        "id": "H6fxcWGIGMT2",
        "outputId": "c8bf9104-5dda-4626-c9ff-0131c087c8d4"
      },
      "execution_count": 179,
      "outputs": [
        {
          "output_type": "execute_result",
          "data": {
            "text/plain": [
              "<Axes: xlabel='smoking_status', ylabel='count'>"
            ]
          },
          "metadata": {},
          "execution_count": 179
        },
        {
          "output_type": "display_data",
          "data": {
            "text/plain": [
              "<Figure size 1170x827 with 1 Axes>"
            ],
            "image/png": "[encoded data removed]"
          },
          "metadata": {}
        }
      ]
    },
    {
      "cell_type": "markdown",
      "source": [
        "У достаточно большого количества людей в столбце, отвечающем за то, курят ли они стоит \"Unknown\"."
      ],
      "metadata": {
        "id": "Vc9R4LuUHJJO"
      }
    },
    {
      "cell_type": "markdown",
      "source": [
        "Построим box plot для возраста пациентов, чтобы увидеть выбросы(важность возраста очевидна интуитивно, т.к. в зависимости от возраста у человека меняется рост и вес и, как следствие, индекс массы тела, появляется гипертензия, сердечные заболевания и растет сахар в крови):"
      ],
      "metadata": {
        "id": "A_tvPfPqLpik"
      }
    },
    {
      "cell_type": "code",
      "source": [
        "data['age'].plot(kind='box')\n",
        "pass"
      ],
      "metadata": {
        "colab": {
          "base_uri": "https://localhost:8080/",
          "height": 701
        },
        "id": "37I7JixncCYg",
        "outputId": "0586dc0d-8b23-477e-8259-836e6fcf472c"
      },
      "execution_count": 180,
      "outputs": [
        {
          "output_type": "display_data",
          "data": {
            "text/plain": [
              "<Figure size 1170x827 with 1 Axes>"
            ],
            "image/png": "[encoded data removed]"
          },
          "metadata": {}
        }
      ]
    },
    {
      "cell_type": "markdown",
      "source": [
        "Значений, выходящих за пределы \"усов\", которые можно было бы считать выбросами нет, да и цифры возраста от 0 до 80 с небольши кажутся реалистичными."
      ],
      "metadata": {
        "id": "I2rDBxoIMbIh"
      }
    },
    {
      "cell_type": "markdown",
      "source": [
        "Матрицу корреляции построим после дальнейшенй обработки категориальных признаков."
      ],
      "metadata": {
        "id": "PVdNNR8qtleX"
      }
    },
    {
      "cell_type": "markdown",
      "source": [
        "##3.Обработка пропущенных значений."
      ],
      "metadata": {
        "id": "t0df0MOgc-79"
      }
    },
    {
      "cell_type": "markdown",
      "source": [
        "Перед прочими махинациями удалим таки столбец id."
      ],
      "metadata": {
        "id": "GTQdMPsYf__C"
      }
    },
    {
      "cell_type": "code",
      "source": [
        "data.pop('id')"
      ],
      "metadata": {
        "colab": {
          "base_uri": "https://localhost:8080/"
        },
        "id": "DwewdZktgFEw",
        "outputId": "e87f5180-0349-4e8b-a853-fbf28e434e82"
      },
      "execution_count": 181,
      "outputs": [
        {
          "output_type": "execute_result",
          "data": {
            "text/plain": [
              "0        9046\n",
              "1       51676\n",
              "2       31112\n",
              "3       60182\n",
              "4        1665\n",
              "        ...  \n",
              "5105    18234\n",
              "5106    44873\n",
              "5107    19723\n",
              "5108    37544\n",
              "5109    44679\n",
              "Name: id, Length: 5110, dtype: int64"
            ]
          },
          "metadata": {},
          "execution_count": 181
        }
      ]
    },
    {
      "cell_type": "code",
      "source": [
        "data.info()"
      ],
      "metadata": {
        "colab": {
          "base_uri": "https://localhost:8080/"
        },
        "id": "YNi_TiFcgeTI",
        "outputId": "512d5660-8d56-4e81-9c30-3a8e6a72ead3"
      },
      "execution_count": 182,
      "outputs": [
        {
          "output_type": "stream",
          "name": "stdout",
          "text": [
            "<class 'pandas.core.frame.DataFrame'>\n",
            "RangeIndex: 5110 entries, 0 to 5109\n",
            "Data columns (total 11 columns):\n",
            " #   Column             Non-Null Count  Dtype  \n",
            "---  ------             --------------  -----  \n",
            " 0   gender             5110 non-null   object \n",
            " 1   age                5110 non-null   float64\n",
            " 2   hypertension       5110 non-null   int64  \n",
            " 3   heart_disease      5110 non-null   int64  \n",
            " 4   ever_married       5110 non-null   object \n",
            " 5   work_type          5110 non-null   object \n",
            " 6   Residence_type     5110 non-null   object \n",
            " 7   avg_glucose_level  5110 non-null   float64\n",
            " 8   bmi                4909 non-null   float64\n",
            " 9   smoking_status     5110 non-null   object \n",
            " 10  stroke             5110 non-null   int64  \n",
            "dtypes: float64(3), int64(3), object(5)\n",
            "memory usage: 439.3+ KB\n"
          ]
        }
      ]
    },
    {
      "cell_type": "markdown",
      "source": [
        "Найдем количество пропущенных значений и столбцы, где они находятся."
      ],
      "metadata": {
        "id": "KziLloncdS0O"
      }
    },
    {
      "cell_type": "code",
      "source": [
        "data.isnull().sum()"
      ],
      "metadata": {
        "colab": {
          "base_uri": "https://localhost:8080/"
        },
        "id": "NdiKN4bDdXu1",
        "outputId": "dadc67c5-659d-46a1-82ec-cb5a1f582fdb"
      },
      "execution_count": 183,
      "outputs": [
        {
          "output_type": "execute_result",
          "data": {
            "text/plain": [
              "gender                 0\n",
              "age                    0\n",
              "hypertension           0\n",
              "heart_disease          0\n",
              "ever_married           0\n",
              "work_type              0\n",
              "Residence_type         0\n",
              "avg_glucose_level      0\n",
              "bmi                  201\n",
              "smoking_status         0\n",
              "stroke                 0\n",
              "dtype: int64"
            ]
          },
          "metadata": {},
          "execution_count": 183
        }
      ]
    },
    {
      "cell_type": "markdown",
      "source": [
        "В столбце, соответствующем индексу массы тела, имеются пропущенные значения. Заполним их медианой."
      ],
      "metadata": {
        "id": "Fxd0b1pr8piE"
      }
    },
    {
      "cell_type": "code",
      "source": [
        "data['bmi'] = data['bmi'].fillna(data['bmi'].median(axis = 0), axis=0)"
      ],
      "metadata": {
        "id": "BNQSjHQr85si"
      },
      "execution_count": 184,
      "outputs": []
    },
    {
      "cell_type": "code",
      "source": [
        "data.isnull().sum()"
      ],
      "metadata": {
        "colab": {
          "base_uri": "https://localhost:8080/"
        },
        "id": "98Q011Gn9jtG",
        "outputId": "9da7f44d-34a5-4939-d7b4-c4d7e973f43a"
      },
      "execution_count": 185,
      "outputs": [
        {
          "output_type": "execute_result",
          "data": {
            "text/plain": [
              "gender               0\n",
              "age                  0\n",
              "hypertension         0\n",
              "heart_disease        0\n",
              "ever_married         0\n",
              "work_type            0\n",
              "Residence_type       0\n",
              "avg_glucose_level    0\n",
              "bmi                  0\n",
              "smoking_status       0\n",
              "stroke               0\n",
              "dtype: int64"
            ]
          },
          "metadata": {},
          "execution_count": 185
        }
      ]
    },
    {
      "cell_type": "code",
      "source": [
        "data['gender']. value_counts ()"
      ],
      "metadata": {
        "colab": {
          "base_uri": "https://localhost:8080/"
        },
        "id": "yUD__ZalfIvR",
        "outputId": "4523d099-dda6-411d-c2d7-683f7713adca"
      },
      "execution_count": 186,
      "outputs": [
        {
          "output_type": "execute_result",
          "data": {
            "text/plain": [
              "Female    2994\n",
              "Male      2115\n",
              "Other        1\n",
              "Name: gender, dtype: int64"
            ]
          },
          "metadata": {},
          "execution_count": 186
        }
      ]
    },
    {
      "cell_type": "markdown",
      "source": [
        "В столбце \"gender\" присутствует 1 \"other\", я все-таки сочту это пропущенным значением и просто удалю, потому что одна строка не имеет большого влияния на результат:"
      ],
      "metadata": {
        "id": "wAaRIzdSfgpg"
      }
    },
    {
      "cell_type": "code",
      "source": [
        "data = data[data.gender != 'Other' ]"
      ],
      "metadata": {
        "id": "sxnrV-0SkniP"
      },
      "execution_count": 187,
      "outputs": []
    },
    {
      "cell_type": "markdown",
      "source": [
        "##4.Обработка категориальных признаков."
      ],
      "metadata": {
        "id": "rsxZ49zkuGfs"
      }
    },
    {
      "cell_type": "markdown",
      "source": [
        "Определим количество уникальных значений в разных столбцах:"
      ],
      "metadata": {
        "id": "o_QRSmtTxyEv"
      }
    },
    {
      "cell_type": "code",
      "source": [
        "categorical_columns = [c for c in data.columns if data[c].dtype.name == 'object']\n",
        "numerical_columns   = [c for c in data.columns if data[c].dtype.name != 'object']\n",
        "data_describe = data.describe(include = [object])\n",
        "binary_columns    = [c for c in categorical_columns if data_describe[c]['unique'] == 2]\n",
        "nonbinary_columns = [c for c in categorical_columns if data_describe[c]['unique'] > 2]\n",
        "print(binary_columns, nonbinary_columns)"
      ],
      "metadata": {
        "colab": {
          "base_uri": "https://localhost:8080/"
        },
        "id": "OdgqYPpNuTyL",
        "outputId": "f3d51cbb-678e-4550-f3d1-3968a083c4ac"
      },
      "execution_count": 188,
      "outputs": [
        {
          "output_type": "stream",
          "name": "stdout",
          "text": [
            "['gender', 'ever_married', 'Residence_type'] ['work_type', 'smoking_status']\n"
          ]
        }
      ]
    },
    {
      "cell_type": "markdown",
      "source": [
        "Те признаки, где по 2 уникальных значения превратим в бинарные:"
      ],
      "metadata": {
        "id": "gqvcBATWx6_h"
      }
    },
    {
      "cell_type": "code",
      "source": [
        "data.loc[data['gender'] == 'Male', 'gender'] = 0\n",
        "data.loc[data['gender'] == 'Female', 'gender'] = 1\n",
        "data['gender'].describe()"
      ],
      "metadata": {
        "colab": {
          "base_uri": "https://localhost:8080/"
        },
        "id": "P8wvfVhdyPvH",
        "outputId": "5f5156d1-f423-4b73-fa2f-b1916f64d57f"
      },
      "execution_count": 189,
      "outputs": [
        {
          "output_type": "execute_result",
          "data": {
            "text/plain": [
              "count     5109\n",
              "unique       2\n",
              "top          1\n",
              "freq      2994\n",
              "Name: gender, dtype: int64"
            ]
          },
          "metadata": {},
          "execution_count": 189
        }
      ]
    },
    {
      "cell_type": "code",
      "source": [
        "data.loc[data['ever_married'] == 'No', 'ever_married'] = 0\n",
        "data.loc[data['ever_married'] == 'Yes', 'ever_married'] = 1\n",
        "data['ever_married'].describe()"
      ],
      "metadata": {
        "colab": {
          "base_uri": "https://localhost:8080/"
        },
        "id": "CB0YJn1LydBl",
        "outputId": "c25d31a1-8001-4720-f130-e27e3526e64f"
      },
      "execution_count": 190,
      "outputs": [
        {
          "output_type": "execute_result",
          "data": {
            "text/plain": [
              "count     5109\n",
              "unique       2\n",
              "top          1\n",
              "freq      3353\n",
              "Name: ever_married, dtype: int64"
            ]
          },
          "metadata": {},
          "execution_count": 190
        }
      ]
    },
    {
      "cell_type": "code",
      "source": [
        "data.loc[data['Residence_type'] == 'Urban', 'Residence_type'] = 0\n",
        "data.loc[data['Residence_type'] == 'Rural', 'Residence_type'] = 1\n",
        "data['Residence_type'].describe()"
      ],
      "metadata": {
        "colab": {
          "base_uri": "https://localhost:8080/"
        },
        "id": "XbGC7HN0yfBN",
        "outputId": "0a06e18a-b150-4d66-8a38-8524d9d09e9c"
      },
      "execution_count": 191,
      "outputs": [
        {
          "output_type": "execute_result",
          "data": {
            "text/plain": [
              "count     5109\n",
              "unique       2\n",
              "top          0\n",
              "freq      2596\n",
              "Name: Residence_type, dtype: int64"
            ]
          },
          "metadata": {},
          "execution_count": 191
        }
      ]
    },
    {
      "cell_type": "code",
      "source": [
        "data['smoking_status']. value_counts ()"
      ],
      "metadata": {
        "colab": {
          "base_uri": "https://localhost:8080/"
        },
        "id": "twh0L16V3TTr",
        "outputId": "567a9fe2-d964-4d97-8c64-a48ce3b17723"
      },
      "execution_count": 192,
      "outputs": [
        {
          "output_type": "execute_result",
          "data": {
            "text/plain": [
              "never smoked       1892\n",
              "Unknown            1544\n",
              "formerly smoked     884\n",
              "smokes              789\n",
              "Name: smoking_status, dtype: int64"
            ]
          },
          "metadata": {},
          "execution_count": 192
        }
      ]
    },
    {
      "cell_type": "markdown",
      "source": [
        "Сделаем label encoding для прочих признаков:"
      ],
      "metadata": {
        "id": "kektE5xC3aMa"
      }
    },
    {
      "cell_type": "code",
      "source": [
        "data['smoking_status_encoded'] = data['smoking_status'].factorize()[0]\n",
        "data = data.drop('smoking_status', axis=1)"
      ],
      "metadata": {
        "colab": {
          "base_uri": "https://localhost:8080/"
        },
        "id": "szkrmlmz6JG1",
        "outputId": "9aadf566-19eb-4ded-f475-88b922474a88"
      },
      "execution_count": 193,
      "outputs": [
        {
          "output_type": "stream",
          "name": "stderr",
          "text": [
            "<ipython-input-193-7397cfdde978>:1: SettingWithCopyWarning: \n",
            "A value is trying to be set on a copy of a slice from a DataFrame.\n",
            "Try using .loc[row_indexer,col_indexer] = value instead\n",
            "\n",
            "See the caveats in the documentation: https://pandas.pydata.org/pandas-docs/stable/user_guide/indexing.html#returning-a-view-versus-a-copy\n",
            "  data['smoking_status_encoded'] = data['smoking_status'].factorize()[0]\n"
          ]
        }
      ]
    },
    {
      "cell_type": "code",
      "source": [
        "data['work_type_encoded'] = data['work_type'].factorize()[0]\n",
        "data = data.drop('work_type', axis=1)\n",
        "data"
      ],
      "metadata": {
        "colab": {
          "base_uri": "https://localhost:8080/",
          "height": 424
        },
        "id": "MvSvf37664Vq",
        "outputId": "a5362de0-4de8-4ae9-9a76-6b6cd369d6d8"
      },
      "execution_count": 194,
      "outputs": [
        {
          "output_type": "execute_result",
          "data": {
            "text/plain": [
              "     gender   age  hypertension  heart_disease ever_married Residence_type  \\\n",
              "0         0  67.0             0              1            1              0   \n",
              "1         1  61.0             0              0            1              1   \n",
              "2         0  80.0             0              1            1              1   \n",
              "3         1  49.0             0              0            1              0   \n",
              "4         1  79.0             1              0            1              1   \n",
              "...     ...   ...           ...            ...          ...            ...   \n",
              "5105      1  80.0             1              0            1              0   \n",
              "5106      1  81.0             0              0            1              0   \n",
              "5107      1  35.0             0              0            1              1   \n",
              "5108      0  51.0             0              0            1              1   \n",
              "5109      1  44.0             0              0            1              0   \n",
              "\n",
              "      avg_glucose_level   bmi  stroke  smoking_status_encoded  \\\n",
              "0                228.69  36.6       1                       0   \n",
              "1                202.21  28.1       1                       1   \n",
              "2                105.92  32.5       1                       1   \n",
              "3                171.23  34.4       1                       2   \n",
              "4                174.12  24.0       1                       1   \n",
              "...                 ...   ...     ...                     ...   \n",
              "5105              83.75  28.1       0                       1   \n",
              "5106             125.20  40.0       0                       1   \n",
              "5107              82.99  30.6       0                       1   \n",
              "5108             166.29  25.6       0                       0   \n",
              "5109              85.28  26.2       0                       3   \n",
              "\n",
              "      work_type_encoded  \n",
              "0                     0  \n",
              "1                     1  \n",
              "2                     0  \n",
              "3                     0  \n",
              "4                     1  \n",
              "...                 ...  \n",
              "5105                  0  \n",
              "5106                  1  \n",
              "5107                  1  \n",
              "5108                  0  \n",
              "5109                  2  \n",
              "\n",
              "[5109 rows x 11 columns]"
            ],
            "text/html": [
              "\n",
              "  <div id=\"df-7a079ab9-0cc5-4136-95b2-d2ec0bcb98da\" class=\"colab-df-container\">\n",
              "    <div>\n",
              "<style scoped>\n",
              "    .dataframe tbody tr th:only-of-type {\n",
              "        vertical-align: middle;\n",
              "    }\n",
              "\n",
              "    .dataframe tbody tr th {\n",
              "        vertical-align: top;\n",
              "    }\n",
              "\n",
              "    .dataframe thead th {\n",
              "        text-align: right;\n",
              "    }\n",
              "</style>\n",
              "<table border=\"1\" class=\"dataframe\">\n",
              "  <thead>\n",
              "    <tr style=\"text-align: right;\">\n",
              "      <th></th>\n",
              "      <th>gender</th>\n",
              "      <th>age</th>\n",
              "      <th>hypertension</th>\n",
              "      <th>heart_disease</th>\n",
              "      <th>ever_married</th>\n",
              "      <th>Residence_type</th>\n",
              "      <th>avg_glucose_level</th>\n",
              "      <th>bmi</th>\n",
              "      <th>stroke</th>\n",
              "      <th>smoking_status_encoded</th>\n",
              "      <th>work_type_encoded</th>\n",
              "    </tr>\n",
              "  </thead>\n",
              "  <tbody>\n",
              "    <tr>\n",
              "      <th>0</th>\n",
              "      <td>0</td>\n",
              "      <td>67.0</td>\n",
              "      <td>0</td>\n",
              "      <td>1</td>\n",
              "      <td>1</td>\n",
              "      <td>0</td>\n",
              "      <td>228.69</td>\n",
              "      <td>36.6</td>\n",
              "      <td>1</td>\n",
              "      <td>0</td>\n",
              "      <td>0</td>\n",
              "    </tr>\n",
              "    <tr>\n",
              "      <th>1</th>\n",
              "      <td>1</td>\n",
              "      <td>61.0</td>\n",
              "      <td>0</td>\n",
              "      <td>0</td>\n",
              "      <td>1</td>\n",
              "      <td>1</td>\n",
              "      <td>202.21</td>\n",
              "      <td>28.1</td>\n",
              "      <td>1</td>\n",
              "      <td>1</td>\n",
              "      <td>1</td>\n",
              "    </tr>\n",
              "    <tr>\n",
              "      <th>2</th>\n",
              "      <td>0</td>\n",
              "      <td>80.0</td>\n",
              "      <td>0</td>\n",
              "      <td>1</td>\n",
              "      <td>1</td>\n",
              "      <td>1</td>\n",
              "      <td>105.92</td>\n",
              "      <td>32.5</td>\n",
              "      <td>1</td>\n",
              "      <td>1</td>\n",
              "      <td>0</td>\n",
              "    </tr>\n",
              "    <tr>\n",
              "      <th>3</th>\n",
              "      <td>1</td>\n",
              "      <td>49.0</td>\n",
              "      <td>0</td>\n",
              "      <td>0</td>\n",
              "      <td>1</td>\n",
              "      <td>0</td>\n",
              "      <td>171.23</td>\n",
              "      <td>34.4</td>\n",
              "      <td>1</td>\n",
              "      <td>2</td>\n",
              "      <td>0</td>\n",
              "    </tr>\n",
              "    <tr>\n",
              "      <th>4</th>\n",
              "      <td>1</td>\n",
              "      <td>79.0</td>\n",
              "      <td>1</td>\n",
              "      <td>0</td>\n",
              "      <td>1</td>\n",
              "      <td>1</td>\n",
              "      <td>174.12</td>\n",
              "      <td>24.0</td>\n",
              "      <td>1</td>\n",
              "      <td>1</td>\n",
              "      <td>1</td>\n",
              "    </tr>\n",
              "    <tr>\n",
              "      <th>...</th>\n",
              "      <td>...</td>\n",
              "      <td>...</td>\n",
              "      <td>...</td>\n",
              "      <td>...</td>\n",
              "      <td>...</td>\n",
              "      <td>...</td>\n",
              "      <td>...</td>\n",
              "      <td>...</td>\n",
              "      <td>...</td>\n",
              "      <td>...</td>\n",
              "      <td>...</td>\n",
              "    </tr>\n",
              "    <tr>\n",
              "      <th>5105</th>\n",
              "      <td>1</td>\n",
              "      <td>80.0</td>\n",
              "      <td>1</td>\n",
              "      <td>0</td>\n",
              "      <td>1</td>\n",
              "      <td>0</td>\n",
              "      <td>83.75</td>\n",
              "      <td>28.1</td>\n",
              "      <td>0</td>\n",
              "      <td>1</td>\n",
              "      <td>0</td>\n",
              "    </tr>\n",
              "    <tr>\n",
              "      <th>5106</th>\n",
              "      <td>1</td>\n",
              "      <td>81.0</td>\n",
              "      <td>0</td>\n",
              "      <td>0</td>\n",
              "      <td>1</td>\n",
              "      <td>0</td>\n",
              "      <td>125.20</td>\n",
              "      <td>40.0</td>\n",
              "      <td>0</td>\n",
              "      <td>1</td>\n",
              "      <td>1</td>\n",
              "    </tr>\n",
              "    <tr>\n",
              "      <th>5107</th>\n",
              "      <td>1</td>\n",
              "      <td>35.0</td>\n",
              "      <td>0</td>\n",
              "      <td>0</td>\n",
              "      <td>1</td>\n",
              "      <td>1</td>\n",
              "      <td>82.99</td>\n",
              "      <td>30.6</td>\n",
              "      <td>0</td>\n",
              "      <td>1</td>\n",
              "      <td>1</td>\n",
              "    </tr>\n",
              "    <tr>\n",
              "      <th>5108</th>\n",
              "      <td>0</td>\n",
              "      <td>51.0</td>\n",
              "      <td>0</td>\n",
              "      <td>0</td>\n",
              "      <td>1</td>\n",
              "      <td>1</td>\n",
              "      <td>166.29</td>\n",
              "      <td>25.6</td>\n",
              "      <td>0</td>\n",
              "      <td>0</td>\n",
              "      <td>0</td>\n",
              "    </tr>\n",
              "    <tr>\n",
              "      <th>5109</th>\n",
              "      <td>1</td>\n",
              "      <td>44.0</td>\n",
              "      <td>0</td>\n",
              "      <td>0</td>\n",
              "      <td>1</td>\n",
              "      <td>0</td>\n",
              "      <td>85.28</td>\n",
              "      <td>26.2</td>\n",
              "      <td>0</td>\n",
              "      <td>3</td>\n",
              "      <td>2</td>\n",
              "    </tr>\n",
              "  </tbody>\n",
              "</table>\n",
              "<p>5109 rows × 11 columns</p>\n",
              "</div>\n",
              "    <div class=\"colab-df-buttons\">\n",
              "\n",
              "  <div class=\"colab-df-container\">\n",
              "    <button class=\"colab-df-convert\" onclick=\"convertToInteractive('df-7a079ab9-0cc5-4136-95b2-d2ec0bcb98da')\"\n",
              "            title=\"Convert this dataframe to an interactive table.\"\n",
              "            style=\"display:none;\">\n",
              "\n",
              "  <svg xmlns=\"http://www.w3.org/2000/svg\" height=\"24px\" viewBox=\"0 -960 960 960\">\n",
              "    <path d=\"M120-120v-720h720v720H120Zm60-500h600v-160H180v160Zm220 220h160v-160H400v160Zm0 220h160v-160H400v160ZM180-400h160v-160H180v160Zm440 0h160v-160H620v160ZM180-180h160v-160H180v160Zm440 0h160v-160H620v160Z\"/>\n",
              "  </svg>\n",
              "    </button>\n",
              "\n",
              "  <style>\n",
              "    .colab-df-container {\n",
              "      display:flex;\n",
              "      gap: 12px;\n",
              "    }\n",
              "\n",
              "    .colab-df-convert {\n",
              "      background-color: #E8F0FE;\n",
              "      border: none;\n",
              "      border-radius: 50%;\n",
              "      cursor: pointer;\n",
              "      display: none;\n",
              "      fill: #1967D2;\n",
              "      height: 32px;\n",
              "      padding: 0 0 0 0;\n",
              "      width: 32px;\n",
              "    }\n",
              "\n",
              "    .colab-df-convert:hover {\n",
              "      background-color: #E2EBFA;\n",
              "      box-shadow: 0px 1px 2px rgba(60, 64, 67, 0.3), 0px 1px 3px 1px rgba(60, 64, 67, 0.15);\n",
              "      fill: #174EA6;\n",
              "    }\n",
              "\n",
              "    .colab-df-buttons div {\n",
              "      margin-bottom: 4px;\n",
              "    }\n",
              "\n",
              "    [theme=dark] .colab-df-convert {\n",
              "      background-color: #3B4455;\n",
              "      fill: #D2E3FC;\n",
              "    }\n",
              "\n",
              "    [theme=dark] .colab-df-convert:hover {\n",
              "      background-color: #434B5C;\n",
              "      box-shadow: 0px 1px 3px 1px rgba(0, 0, 0, 0.15);\n",
              "      filter: drop-shadow(0px 1px 2px rgba(0, 0, 0, 0.3));\n",
              "      fill: #FFFFFF;\n",
              "    }\n",
              "  </style>\n",
              "\n",
              "    <script>\n",
              "      const buttonEl =\n",
              "        document.querySelector('#df-7a079ab9-0cc5-4136-95b2-d2ec0bcb98da button.colab-df-convert');\n",
              "      buttonEl.style.display =\n",
              "        google.colab.kernel.accessAllowed ? 'block' : 'none';\n",
              "\n",
              "      async function convertToInteractive(key) {\n",
              "        const element = document.querySelector('#df-7a079ab9-0cc5-4136-95b2-d2ec0bcb98da');\n",
              "        const dataTable =\n",
              "          await google.colab.kernel.invokeFunction('convertToInteractive',\n",
              "                                                    [key], {});\n",
              "        if (!dataTable) return;\n",
              "\n",
              "        const docLinkHtml = 'Like what you see? Visit the ' +\n",
              "          '<a target=\"_blank\" href=https://colab.research.google.com/notebooks/data_table.ipynb>data table notebook</a>'\n",
              "          + ' to learn more about interactive tables.';\n",
              "        element.innerHTML = '';\n",
              "        dataTable['output_type'] = 'display_data';\n",
              "        await google.colab.output.renderOutput(dataTable, element);\n",
              "        const docLink = document.createElement('div');\n",
              "        docLink.innerHTML = docLinkHtml;\n",
              "        element.appendChild(docLink);\n",
              "      }\n",
              "    </script>\n",
              "  </div>\n",
              "\n",
              "\n",
              "<div id=\"df-e2df31cb-66ee-471e-9b86-8ea681b07f8f\">\n",
              "  <button class=\"colab-df-quickchart\" onclick=\"quickchart('df-e2df31cb-66ee-471e-9b86-8ea681b07f8f')\"\n",
              "            title=\"Suggest charts\"\n",
              "            style=\"display:none;\">\n",
              "\n",
              "<svg xmlns=\"http://www.w3.org/2000/svg\" height=\"24px\"viewBox=\"0 0 24 24\"\n",
              "     width=\"24px\">\n",
              "    <g>\n",
              "        <path d=\"M19 3H5c-1.1 0-2 .9-2 2v14c0 1.1.9 2 2 2h14c1.1 0 2-.9 2-2V5c0-1.1-.9-2-2-2zM9 17H7v-7h2v7zm4 0h-2V7h2v10zm4 0h-2v-4h2v4z\"/>\n",
              "    </g>\n",
              "</svg>\n",
              "  </button>\n",
              "\n",
              "<style>\n",
              "  .colab-df-quickchart {\n",
              "      --bg-color: #E8F0FE;\n",
              "      --fill-color: #1967D2;\n",
              "      --hover-bg-color: #E2EBFA;\n",
              "      --hover-fill-color: #174EA6;\n",
              "      --disabled-fill-color: #AAA;\n",
              "      --disabled-bg-color: #DDD;\n",
              "  }\n",
              "\n",
              "  [theme=dark] .colab-df-quickchart {\n",
              "      --bg-color: #3B4455;\n",
              "      --fill-color: #D2E3FC;\n",
              "      --hover-bg-color: #434B5C;\n",
              "      --hover-fill-color: #FFFFFF;\n",
              "      --disabled-bg-color: #3B4455;\n",
              "      --disabled-fill-color: #666;\n",
              "  }\n",
              "\n",
              "  .colab-df-quickchart {\n",
              "    background-color: var(--bg-color);\n",
              "    border: none;\n",
              "    border-radius: 50%;\n",
              "    cursor: pointer;\n",
              "    display: none;\n",
              "    fill: var(--fill-color);\n",
              "    height: 32px;\n",
              "    padding: 0;\n",
              "    width: 32px;\n",
              "  }\n",
              "\n",
              "  .colab-df-quickchart:hover {\n",
              "    background-color: var(--hover-bg-color);\n",
              "    box-shadow: 0 1px 2px rgba(60, 64, 67, 0.3), 0 1px 3px 1px rgba(60, 64, 67, 0.15);\n",
              "    fill: var(--button-hover-fill-color);\n",
              "  }\n",
              "\n",
              "  .colab-df-quickchart-complete:disabled,\n",
              "  .colab-df-quickchart-complete:disabled:hover {\n",
              "    background-color: var(--disabled-bg-color);\n",
              "    fill: var(--disabled-fill-color);\n",
              "    box-shadow: none;\n",
              "  }\n",
              "\n",
              "  .colab-df-spinner {\n",
              "    border: 2px solid var(--fill-color);\n",
              "    border-color: transparent;\n",
              "    border-bottom-color: var(--fill-color);\n",
              "    animation:\n",
              "      spin 1s steps(1) infinite;\n",
              "  }\n",
              "\n",
              "  @keyframes spin {\n",
              "    0% {\n",
              "      border-color: transparent;\n",
              "      border-bottom-color: var(--fill-color);\n",
              "      border-left-color: var(--fill-color);\n",
              "    }\n",
              "    20% {\n",
              "      border-color: transparent;\n",
              "      border-left-color: var(--fill-color);\n",
              "      border-top-color: var(--fill-color);\n",
              "    }\n",
              "    30% {\n",
              "      border-color: transparent;\n",
              "      border-left-color: var(--fill-color);\n",
              "      border-top-color: var(--fill-color);\n",
              "      border-right-color: var(--fill-color);\n",
              "    }\n",
              "    40% {\n",
              "      border-color: transparent;\n",
              "      border-right-color: var(--fill-color);\n",
              "      border-top-color: var(--fill-color);\n",
              "    }\n",
              "    60% {\n",
              "      border-color: transparent;\n",
              "      border-right-color: var(--fill-color);\n",
              "    }\n",
              "    80% {\n",
              "      border-color: transparent;\n",
              "      border-right-color: var(--fill-color);\n",
              "      border-bottom-color: var(--fill-color);\n",
              "    }\n",
              "    90% {\n",
              "      border-color: transparent;\n",
              "      border-bottom-color: var(--fill-color);\n",
              "    }\n",
              "  }\n",
              "</style>\n",
              "\n",
              "  <script>\n",
              "    async function quickchart(key) {\n",
              "      const quickchartButtonEl =\n",
              "        document.querySelector('#' + key + ' button');\n",
              "      quickchartButtonEl.disabled = true;  // To prevent multiple clicks.\n",
              "      quickchartButtonEl.classList.add('colab-df-spinner');\n",
              "      try {\n",
              "        const charts = await google.colab.kernel.invokeFunction(\n",
              "            'suggestCharts', [key], {});\n",
              "      } catch (error) {\n",
              "        console.error('Error during call to suggestCharts:', error);\n",
              "      }\n",
              "      quickchartButtonEl.classList.remove('colab-df-spinner');\n",
              "      quickchartButtonEl.classList.add('colab-df-quickchart-complete');\n",
              "    }\n",
              "    (() => {\n",
              "      let quickchartButtonEl =\n",
              "        document.querySelector('#df-e2df31cb-66ee-471e-9b86-8ea681b07f8f button');\n",
              "      quickchartButtonEl.style.display =\n",
              "        google.colab.kernel.accessAllowed ? 'block' : 'none';\n",
              "    })();\n",
              "  </script>\n",
              "</div>\n",
              "    </div>\n",
              "  </div>\n"
            ]
          },
          "metadata": {},
          "execution_count": 194
        }
      ]
    },
    {
      "cell_type": "code",
      "source": [
        "data.info()"
      ],
      "metadata": {
        "colab": {
          "base_uri": "https://localhost:8080/"
        },
        "id": "_nHEEJptc-sO",
        "outputId": "9eb0f337-296d-4199-959d-f443e3a14556"
      },
      "execution_count": 195,
      "outputs": [
        {
          "output_type": "stream",
          "name": "stdout",
          "text": [
            "<class 'pandas.core.frame.DataFrame'>\n",
            "Int64Index: 5109 entries, 0 to 5109\n",
            "Data columns (total 11 columns):\n",
            " #   Column                  Non-Null Count  Dtype  \n",
            "---  ------                  --------------  -----  \n",
            " 0   gender                  5109 non-null   object \n",
            " 1   age                     5109 non-null   float64\n",
            " 2   hypertension            5109 non-null   int64  \n",
            " 3   heart_disease           5109 non-null   int64  \n",
            " 4   ever_married            5109 non-null   object \n",
            " 5   Residence_type          5109 non-null   object \n",
            " 6   avg_glucose_level       5109 non-null   float64\n",
            " 7   bmi                     5109 non-null   float64\n",
            " 8   stroke                  5109 non-null   int64  \n",
            " 9   smoking_status_encoded  5109 non-null   int64  \n",
            " 10  work_type_encoded       5109 non-null   int64  \n",
            "dtypes: float64(3), int64(5), object(3)\n",
            "memory usage: 479.0+ KB\n"
          ]
        }
      ]
    },
    {
      "cell_type": "markdown",
      "source": [
        "Некоторые столбцы всё ещё имеют тип object, исправим это:"
      ],
      "metadata": {
        "id": "ekKz_UUHgZ_K"
      }
    },
    {
      "cell_type": "code",
      "source": [
        "data['gender'] = pd.to_numeric(data['gender'])\n",
        "data['ever_married'] = pd.to_numeric(data['ever_married'])\n",
        "data['Residence_type'] = pd.to_numeric(data['Residence_type'])"
      ],
      "metadata": {
        "id": "F_t8Tk1aeI66"
      },
      "execution_count": 196,
      "outputs": []
    },
    {
      "cell_type": "code",
      "source": [
        "data.info()"
      ],
      "metadata": {
        "colab": {
          "base_uri": "https://localhost:8080/"
        },
        "id": "R_INE-E5dmwO",
        "outputId": "1bf5eee1-3147-43c7-9a9f-84d4d44a423a"
      },
      "execution_count": 197,
      "outputs": [
        {
          "output_type": "stream",
          "name": "stdout",
          "text": [
            "<class 'pandas.core.frame.DataFrame'>\n",
            "Int64Index: 5109 entries, 0 to 5109\n",
            "Data columns (total 11 columns):\n",
            " #   Column                  Non-Null Count  Dtype  \n",
            "---  ------                  --------------  -----  \n",
            " 0   gender                  5109 non-null   int64  \n",
            " 1   age                     5109 non-null   float64\n",
            " 2   hypertension            5109 non-null   int64  \n",
            " 3   heart_disease           5109 non-null   int64  \n",
            " 4   ever_married            5109 non-null   int64  \n",
            " 5   Residence_type          5109 non-null   int64  \n",
            " 6   avg_glucose_level       5109 non-null   float64\n",
            " 7   bmi                     5109 non-null   float64\n",
            " 8   stroke                  5109 non-null   int64  \n",
            " 9   smoking_status_encoded  5109 non-null   int64  \n",
            " 10  work_type_encoded       5109 non-null   int64  \n",
            "dtypes: float64(3), int64(8)\n",
            "memory usage: 479.0 KB\n"
          ]
        }
      ]
    },
    {
      "cell_type": "markdown",
      "source": [
        "После всех этих манипуляций все признаки преобразованы в числовые и можем построить корреляционную матрицу:\n"
      ],
      "metadata": {
        "id": "sNCDIDAp93Qz"
      }
    },
    {
      "cell_type": "code",
      "source": [
        "corr_mat = data.corr()\n",
        "sns.heatmap(corr_mat, square=True, fmt='.2f', vmin=-1, vmax=1, cmap='coolwarm', annot=True)"
      ],
      "metadata": {
        "colab": {
          "base_uri": "https://localhost:8080/",
          "height": 902
        },
        "id": "Xee_LwL2_Wv2",
        "outputId": "881c4680-e1d2-4ade-ce1d-7548be06996e"
      },
      "execution_count": 198,
      "outputs": [
        {
          "output_type": "execute_result",
          "data": {
            "text/plain": [
              "<Axes: >"
            ]
          },
          "metadata": {},
          "execution_count": 198
        },
        {
          "output_type": "display_data",
          "data": {
            "text/plain": [
              "<Figure size 1170x827 with 2 Axes>"
            ],
            "image/png": "[encoded data removed]"
          },
          "metadata": {}
        }
      ]
    },
    {
      "cell_type": "markdown",
      "source": [
        "Клетки корреляционной матрицы характеризуют степень линейной зависимости 2 переменных. Здесь видно, что многие признаки(кроме статуса курильщика, пола, места проживания и типа работы), зависят от возраста, хоть и не очень сильно. Случаи инсульта не особо сильно коррелируют с прочими переменными, что, возможно, намекает на то, что линейные модели будут в данном случае не так эффективны как ансамбль деревьев решений или нейросети."
      ],
      "metadata": {
        "id": "cqHhZf-mAHSf"
      }
    },
    {
      "cell_type": "markdown",
      "source": [
        "##5.Нормализация."
      ],
      "metadata": {
        "id": "Tzv06bzLANd9"
      }
    },
    {
      "cell_type": "code",
      "source": [
        "data_crop = data.drop('stroke', axis = 1)\n",
        "data_class = data['stroke']"
      ],
      "metadata": {
        "id": "j03h0eIssJ99"
      },
      "execution_count": 199,
      "outputs": []
    },
    {
      "cell_type": "code",
      "source": [
        "data_crop = (data_crop - data_crop.mean(axis = 0))/data_crop.std(axis = 0)\n",
        "data_crop"
      ],
      "metadata": {
        "colab": {
          "base_uri": "https://localhost:8080/",
          "height": 424
        },
        "id": "r_MWWh_foNiH",
        "outputId": "84150f1d-2c96-4325-8c08-68db0017b916"
      },
      "execution_count": 200,
      "outputs": [
        {
          "output_type": "execute_result",
          "data": {
            "text/plain": [
              "        gender       age  hypertension  heart_disease  ever_married  \\\n",
              "0    -1.189675  1.051139     -0.328605       4.184190      0.723607   \n",
              "1     0.840401  0.785812     -0.328605      -0.238948      0.723607   \n",
              "2    -1.189675  1.626015     -0.328605       4.184190      0.723607   \n",
              "3     0.840401  0.255157     -0.328605      -0.238948      0.723607   \n",
              "4     0.840401  1.581794      3.042569      -0.238948      0.723607   \n",
              "...        ...       ...           ...            ...           ...   \n",
              "5105  0.840401  1.626015      3.042569      -0.238948      0.723607   \n",
              "5106  0.840401  1.670236     -0.328605      -0.238948      0.723607   \n",
              "5107  0.840401 -0.363940     -0.328605      -0.238948      0.723607   \n",
              "5108 -1.189675  0.343600     -0.328605      -0.238948      0.723607   \n",
              "5109  0.840401  0.034051     -0.328605      -0.238948      0.723607   \n",
              "\n",
              "      Residence_type  avg_glucose_level       bmi  smoking_status_encoded  \\\n",
              "0          -0.983788           2.706185  1.004794               -1.451687   \n",
              "1           1.016281           2.121444 -0.099133               -0.536275   \n",
              "2           1.016281          -0.004867  0.472312               -0.536275   \n",
              "3          -0.983788           1.437332  0.719072                0.379137   \n",
              "4           1.016281           1.501150 -0.631615               -0.536275   \n",
              "...              ...                ...       ...                     ...   \n",
              "5105       -0.983788          -0.494433 -0.099133               -0.536275   \n",
              "5106       -0.983788           0.420881  1.446365               -0.536275   \n",
              "5107        1.016281          -0.511216  0.225552               -0.536275   \n",
              "5108        1.016281           1.328245 -0.423817               -1.451687   \n",
              "5109       -0.983788          -0.460647 -0.345893                1.294550   \n",
              "\n",
              "      work_type_encoded  \n",
              "0             -0.749168  \n",
              "1              0.144690  \n",
              "2             -0.749168  \n",
              "3             -0.749168  \n",
              "4              0.144690  \n",
              "...                 ...  \n",
              "5105          -0.749168  \n",
              "5106           0.144690  \n",
              "5107           0.144690  \n",
              "5108          -0.749168  \n",
              "5109           1.038548  \n",
              "\n",
              "[5109 rows x 10 columns]"
            ],
            "text/html": [
              "\n",
              "  <div id=\"df-07bb48da-6523-47e6-b590-a6b9ccfcbce1\" class=\"colab-df-container\">\n",
              "    <div>\n",
              "<style scoped>\n",
              "    .dataframe tbody tr th:only-of-type {\n",
              "        vertical-align: middle;\n",
              "    }\n",
              "\n",
              "    .dataframe tbody tr th {\n",
              "        vertical-align: top;\n",
              "    }\n",
              "\n",
              "    .dataframe thead th {\n",
              "        text-align: right;\n",
              "    }\n",
              "</style>\n",
              "<table border=\"1\" class=\"dataframe\">\n",
              "  <thead>\n",
              "    <tr style=\"text-align: right;\">\n",
              "      <th></th>\n",
              "      <th>gender</th>\n",
              "      <th>age</th>\n",
              "      <th>hypertension</th>\n",
              "      <th>heart_disease</th>\n",
              "      <th>ever_married</th>\n",
              "      <th>Residence_type</th>\n",
              "      <th>avg_glucose_level</th>\n",
              "      <th>bmi</th>\n",
              "      <th>smoking_status_encoded</th>\n",
              "      <th>work_type_encoded</th>\n",
              "    </tr>\n",
              "  </thead>\n",
              "  <tbody>\n",
              "    <tr>\n",
              "      <th>0</th>\n",
              "      <td>-1.189675</td>\n",
              "      <td>1.051139</td>\n",
              "      <td>-0.328605</td>\n",
              "      <td>4.184190</td>\n",
              "      <td>0.723607</td>\n",
              "      <td>-0.983788</td>\n",
              "      <td>2.706185</td>\n",
              "      <td>1.004794</td>\n",
              "      <td>-1.451687</td>\n",
              "      <td>-0.749168</td>\n",
              "    </tr>\n",
              "    <tr>\n",
              "      <th>1</th>\n",
              "      <td>0.840401</td>\n",
              "      <td>0.785812</td>\n",
              "      <td>-0.328605</td>\n",
              "      <td>-0.238948</td>\n",
              "      <td>0.723607</td>\n",
              "      <td>1.016281</td>\n",
              "      <td>2.121444</td>\n",
              "      <td>-0.099133</td>\n",
              "      <td>-0.536275</td>\n",
              "      <td>0.144690</td>\n",
              "    </tr>\n",
              "    <tr>\n",
              "      <th>2</th>\n",
              "      <td>-1.189675</td>\n",
              "      <td>1.626015</td>\n",
              "      <td>-0.328605</td>\n",
              "      <td>4.184190</td>\n",
              "      <td>0.723607</td>\n",
              "      <td>1.016281</td>\n",
              "      <td>-0.004867</td>\n",
              "      <td>0.472312</td>\n",
              "      <td>-0.536275</td>\n",
              "      <td>-0.749168</td>\n",
              "    </tr>\n",
              "    <tr>\n",
              "      <th>3</th>\n",
              "      <td>0.840401</td>\n",
              "      <td>0.255157</td>\n",
              "      <td>-0.328605</td>\n",
              "      <td>-0.238948</td>\n",
              "      <td>0.723607</td>\n",
              "      <td>-0.983788</td>\n",
              "      <td>1.437332</td>\n",
              "      <td>0.719072</td>\n",
              "      <td>0.379137</td>\n",
              "      <td>-0.749168</td>\n",
              "    </tr>\n",
              "    <tr>\n",
              "      <th>4</th>\n",
              "      <td>0.840401</td>\n",
              "      <td>1.581794</td>\n",
              "      <td>3.042569</td>\n",
              "      <td>-0.238948</td>\n",
              "      <td>0.723607</td>\n",
              "      <td>1.016281</td>\n",
              "      <td>1.501150</td>\n",
              "      <td>-0.631615</td>\n",
              "      <td>-0.536275</td>\n",
              "      <td>0.144690</td>\n",
              "    </tr>\n",
              "    <tr>\n",
              "      <th>...</th>\n",
              "      <td>...</td>\n",
              "      <td>...</td>\n",
              "      <td>...</td>\n",
              "      <td>...</td>\n",
              "      <td>...</td>\n",
              "      <td>...</td>\n",
              "      <td>...</td>\n",
              "      <td>...</td>\n",
              "      <td>...</td>\n",
              "      <td>...</td>\n",
              "    </tr>\n",
              "    <tr>\n",
              "      <th>5105</th>\n",
              "      <td>0.840401</td>\n",
              "      <td>1.626015</td>\n",
              "      <td>3.042569</td>\n",
              "      <td>-0.238948</td>\n",
              "      <td>0.723607</td>\n",
              "      <td>-0.983788</td>\n",
              "      <td>-0.494433</td>\n",
              "      <td>-0.099133</td>\n",
              "      <td>-0.536275</td>\n",
              "      <td>-0.749168</td>\n",
              "    </tr>\n",
              "    <tr>\n",
              "      <th>5106</th>\n",
              "      <td>0.840401</td>\n",
              "      <td>1.670236</td>\n",
              "      <td>-0.328605</td>\n",
              "      <td>-0.238948</td>\n",
              "      <td>0.723607</td>\n",
              "      <td>-0.983788</td>\n",
              "      <td>0.420881</td>\n",
              "      <td>1.446365</td>\n",
              "      <td>-0.536275</td>\n",
              "      <td>0.144690</td>\n",
              "    </tr>\n",
              "    <tr>\n",
              "      <th>5107</th>\n",
              "      <td>0.840401</td>\n",
              "      <td>-0.363940</td>\n",
              "      <td>-0.328605</td>\n",
              "      <td>-0.238948</td>\n",
              "      <td>0.723607</td>\n",
              "      <td>1.016281</td>\n",
              "      <td>-0.511216</td>\n",
              "      <td>0.225552</td>\n",
              "      <td>-0.536275</td>\n",
              "      <td>0.144690</td>\n",
              "    </tr>\n",
              "    <tr>\n",
              "      <th>5108</th>\n",
              "      <td>-1.189675</td>\n",
              "      <td>0.343600</td>\n",
              "      <td>-0.328605</td>\n",
              "      <td>-0.238948</td>\n",
              "      <td>0.723607</td>\n",
              "      <td>1.016281</td>\n",
              "      <td>1.328245</td>\n",
              "      <td>-0.423817</td>\n",
              "      <td>-1.451687</td>\n",
              "      <td>-0.749168</td>\n",
              "    </tr>\n",
              "    <tr>\n",
              "      <th>5109</th>\n",
              "      <td>0.840401</td>\n",
              "      <td>0.034051</td>\n",
              "      <td>-0.328605</td>\n",
              "      <td>-0.238948</td>\n",
              "      <td>0.723607</td>\n",
              "      <td>-0.983788</td>\n",
              "      <td>-0.460647</td>\n",
              "      <td>-0.345893</td>\n",
              "      <td>1.294550</td>\n",
              "      <td>1.038548</td>\n",
              "    </tr>\n",
              "  </tbody>\n",
              "</table>\n",
              "<p>5109 rows × 10 columns</p>\n",
              "</div>\n",
              "    <div class=\"colab-df-buttons\">\n",
              "\n",
              "  <div class=\"colab-df-container\">\n",
              "    <button class=\"colab-df-convert\" onclick=\"convertToInteractive('df-07bb48da-6523-47e6-b590-a6b9ccfcbce1')\"\n",
              "            title=\"Convert this dataframe to an interactive table.\"\n",
              "            style=\"display:none;\">\n",
              "\n",
              "  <svg xmlns=\"http://www.w3.org/2000/svg\" height=\"24px\" viewBox=\"0 -960 960 960\">\n",
              "    <path d=\"M120-120v-720h720v720H120Zm60-500h600v-160H180v160Zm220 220h160v-160H400v160Zm0 220h160v-160H400v160ZM180-400h160v-160H180v160Zm440 0h160v-160H620v160ZM180-180h160v-160H180v160Zm440 0h160v-160H620v160Z\"/>\n",
              "  </svg>\n",
              "    </button>\n",
              "\n",
              "  <style>\n",
              "    .colab-df-container {\n",
              "      display:flex;\n",
              "      gap: 12px;\n",
              "    }\n",
              "\n",
              "    .colab-df-convert {\n",
              "      background-color: #E8F0FE;\n",
              "      border: none;\n",
              "      border-radius: 50%;\n",
              "      cursor: pointer;\n",
              "      display: none;\n",
              "      fill: #1967D2;\n",
              "      height: 32px;\n",
              "      padding: 0 0 0 0;\n",
              "      width: 32px;\n",
              "    }\n",
              "\n",
              "    .colab-df-convert:hover {\n",
              "      background-color: #E2EBFA;\n",
              "      box-shadow: 0px 1px 2px rgba(60, 64, 67, 0.3), 0px 1px 3px 1px rgba(60, 64, 67, 0.15);\n",
              "      fill: #174EA6;\n",
              "    }\n",
              "\n",
              "    .colab-df-buttons div {\n",
              "      margin-bottom: 4px;\n",
              "    }\n",
              "\n",
              "    [theme=dark] .colab-df-convert {\n",
              "      background-color: #3B4455;\n",
              "      fill: #D2E3FC;\n",
              "    }\n",
              "\n",
              "    [theme=dark] .colab-df-convert:hover {\n",
              "      background-color: #434B5C;\n",
              "      box-shadow: 0px 1px 3px 1px rgba(0, 0, 0, 0.15);\n",
              "      filter: drop-shadow(0px 1px 2px rgba(0, 0, 0, 0.3));\n",
              "      fill: #FFFFFF;\n",
              "    }\n",
              "  </style>\n",
              "\n",
              "    <script>\n",
              "      const buttonEl =\n",
              "        document.querySelector('#df-07bb48da-6523-47e6-b590-a6b9ccfcbce1 button.colab-df-convert');\n",
              "      buttonEl.style.display =\n",
              "        google.colab.kernel.accessAllowed ? 'block' : 'none';\n",
              "\n",
              "      async function convertToInteractive(key) {\n",
              "        const element = document.querySelector('#df-07bb48da-6523-47e6-b590-a6b9ccfcbce1');\n",
              "        const dataTable =\n",
              "          await google.colab.kernel.invokeFunction('convertToInteractive',\n",
              "                                                    [key], {});\n",
              "        if (!dataTable) return;\n",
              "\n",
              "        const docLinkHtml = 'Like what you see? Visit the ' +\n",
              "          '<a target=\"_blank\" href=https://colab.research.google.com/notebooks/data_table.ipynb>data table notebook</a>'\n",
              "          + ' to learn more about interactive tables.';\n",
              "        element.innerHTML = '';\n",
              "        dataTable['output_type'] = 'display_data';\n",
              "        await google.colab.output.renderOutput(dataTable, element);\n",
              "        const docLink = document.createElement('div');\n",
              "        docLink.innerHTML = docLinkHtml;\n",
              "        element.appendChild(docLink);\n",
              "      }\n",
              "    </script>\n",
              "  </div>\n",
              "\n",
              "\n",
              "<div id=\"df-3e409e85-2de1-4b87-9689-1b3fbe6d38e9\">\n",
              "  <button class=\"colab-df-quickchart\" onclick=\"quickchart('df-3e409e85-2de1-4b87-9689-1b3fbe6d38e9')\"\n",
              "            title=\"Suggest charts\"\n",
              "            style=\"display:none;\">\n",
              "\n",
              "<svg xmlns=\"http://www.w3.org/2000/svg\" height=\"24px\"viewBox=\"0 0 24 24\"\n",
              "     width=\"24px\">\n",
              "    <g>\n",
              "        <path d=\"M19 3H5c-1.1 0-2 .9-2 2v14c0 1.1.9 2 2 2h14c1.1 0 2-.9 2-2V5c0-1.1-.9-2-2-2zM9 17H7v-7h2v7zm4 0h-2V7h2v10zm4 0h-2v-4h2v4z\"/>\n",
              "    </g>\n",
              "</svg>\n",
              "  </button>\n",
              "\n",
              "<style>\n",
              "  .colab-df-quickchart {\n",
              "      --bg-color: #E8F0FE;\n",
              "      --fill-color: #1967D2;\n",
              "      --hover-bg-color: #E2EBFA;\n",
              "      --hover-fill-color: #174EA6;\n",
              "      --disabled-fill-color: #AAA;\n",
              "      --disabled-bg-color: #DDD;\n",
              "  }\n",
              "\n",
              "  [theme=dark] .colab-df-quickchart {\n",
              "      --bg-color: #3B4455;\n",
              "      --fill-color: #D2E3FC;\n",
              "      --hover-bg-color: #434B5C;\n",
              "      --hover-fill-color: #FFFFFF;\n",
              "      --disabled-bg-color: #3B4455;\n",
              "      --disabled-fill-color: #666;\n",
              "  }\n",
              "\n",
              "  .colab-df-quickchart {\n",
              "    background-color: var(--bg-color);\n",
              "    border: none;\n",
              "    border-radius: 50%;\n",
              "    cursor: pointer;\n",
              "    display: none;\n",
              "    fill: var(--fill-color);\n",
              "    height: 32px;\n",
              "    padding: 0;\n",
              "    width: 32px;\n",
              "  }\n",
              "\n",
              "  .colab-df-quickchart:hover {\n",
              "    background-color: var(--hover-bg-color);\n",
              "    box-shadow: 0 1px 2px rgba(60, 64, 67, 0.3), 0 1px 3px 1px rgba(60, 64, 67, 0.15);\n",
              "    fill: var(--button-hover-fill-color);\n",
              "  }\n",
              "\n",
              "  .colab-df-quickchart-complete:disabled,\n",
              "  .colab-df-quickchart-complete:disabled:hover {\n",
              "    background-color: var(--disabled-bg-color);\n",
              "    fill: var(--disabled-fill-color);\n",
              "    box-shadow: none;\n",
              "  }\n",
              "\n",
              "  .colab-df-spinner {\n",
              "    border: 2px solid var(--fill-color);\n",
              "    border-color: transparent;\n",
              "    border-bottom-color: var(--fill-color);\n",
              "    animation:\n",
              "      spin 1s steps(1) infinite;\n",
              "  }\n",
              "\n",
              "  @keyframes spin {\n",
              "    0% {\n",
              "      border-color: transparent;\n",
              "      border-bottom-color: var(--fill-color);\n",
              "      border-left-color: var(--fill-color);\n",
              "    }\n",
              "    20% {\n",
              "      border-color: transparent;\n",
              "      border-left-color: var(--fill-color);\n",
              "      border-top-color: var(--fill-color);\n",
              "    }\n",
              "    30% {\n",
              "      border-color: transparent;\n",
              "      border-left-color: var(--fill-color);\n",
              "      border-top-color: var(--fill-color);\n",
              "      border-right-color: var(--fill-color);\n",
              "    }\n",
              "    40% {\n",
              "      border-color: transparent;\n",
              "      border-right-color: var(--fill-color);\n",
              "      border-top-color: var(--fill-color);\n",
              "    }\n",
              "    60% {\n",
              "      border-color: transparent;\n",
              "      border-right-color: var(--fill-color);\n",
              "    }\n",
              "    80% {\n",
              "      border-color: transparent;\n",
              "      border-right-color: var(--fill-color);\n",
              "      border-bottom-color: var(--fill-color);\n",
              "    }\n",
              "    90% {\n",
              "      border-color: transparent;\n",
              "      border-bottom-color: var(--fill-color);\n",
              "    }\n",
              "  }\n",
              "</style>\n",
              "\n",
              "  <script>\n",
              "    async function quickchart(key) {\n",
              "      const quickchartButtonEl =\n",
              "        document.querySelector('#' + key + ' button');\n",
              "      quickchartButtonEl.disabled = true;  // To prevent multiple clicks.\n",
              "      quickchartButtonEl.classList.add('colab-df-spinner');\n",
              "      try {\n",
              "        const charts = await google.colab.kernel.invokeFunction(\n",
              "            'suggestCharts', [key], {});\n",
              "      } catch (error) {\n",
              "        console.error('Error during call to suggestCharts:', error);\n",
              "      }\n",
              "      quickchartButtonEl.classList.remove('colab-df-spinner');\n",
              "      quickchartButtonEl.classList.add('colab-df-quickchart-complete');\n",
              "    }\n",
              "    (() => {\n",
              "      let quickchartButtonEl =\n",
              "        document.querySelector('#df-3e409e85-2de1-4b87-9689-1b3fbe6d38e9 button');\n",
              "      quickchartButtonEl.style.display =\n",
              "        google.colab.kernel.accessAllowed ? 'block' : 'none';\n",
              "    })();\n",
              "  </script>\n",
              "</div>\n",
              "    </div>\n",
              "  </div>\n"
            ]
          },
          "metadata": {},
          "execution_count": 200
        }
      ]
    },
    {
      "cell_type": "code",
      "source": [
        "data = pd.concat((data_crop, data_class), axis = 1)\n",
        "data"
      ],
      "metadata": {
        "colab": {
          "base_uri": "https://localhost:8080/",
          "height": 424
        },
        "id": "eOF3IKT-sl4D",
        "outputId": "d48d8d65-4c03-4e22-ce11-ce05a54ede4f"
      },
      "execution_count": 201,
      "outputs": [
        {
          "output_type": "execute_result",
          "data": {
            "text/plain": [
              "        gender       age  hypertension  heart_disease  ever_married  \\\n",
              "0    -1.189675  1.051139     -0.328605       4.184190      0.723607   \n",
              "1     0.840401  0.785812     -0.328605      -0.238948      0.723607   \n",
              "2    -1.189675  1.626015     -0.328605       4.184190      0.723607   \n",
              "3     0.840401  0.255157     -0.328605      -0.238948      0.723607   \n",
              "4     0.840401  1.581794      3.042569      -0.238948      0.723607   \n",
              "...        ...       ...           ...            ...           ...   \n",
              "5105  0.840401  1.626015      3.042569      -0.238948      0.723607   \n",
              "5106  0.840401  1.670236     -0.328605      -0.238948      0.723607   \n",
              "5107  0.840401 -0.363940     -0.328605      -0.238948      0.723607   \n",
              "5108 -1.189675  0.343600     -0.328605      -0.238948      0.723607   \n",
              "5109  0.840401  0.034051     -0.328605      -0.238948      0.723607   \n",
              "\n",
              "      Residence_type  avg_glucose_level       bmi  smoking_status_encoded  \\\n",
              "0          -0.983788           2.706185  1.004794               -1.451687   \n",
              "1           1.016281           2.121444 -0.099133               -0.536275   \n",
              "2           1.016281          -0.004867  0.472312               -0.536275   \n",
              "3          -0.983788           1.437332  0.719072                0.379137   \n",
              "4           1.016281           1.501150 -0.631615               -0.536275   \n",
              "...              ...                ...       ...                     ...   \n",
              "5105       -0.983788          -0.494433 -0.099133               -0.536275   \n",
              "5106       -0.983788           0.420881  1.446365               -0.536275   \n",
              "5107        1.016281          -0.511216  0.225552               -0.536275   \n",
              "5108        1.016281           1.328245 -0.423817               -1.451687   \n",
              "5109       -0.983788          -0.460647 -0.345893                1.294550   \n",
              "\n",
              "      work_type_encoded  stroke  \n",
              "0             -0.749168       1  \n",
              "1              0.144690       1  \n",
              "2             -0.749168       1  \n",
              "3             -0.749168       1  \n",
              "4              0.144690       1  \n",
              "...                 ...     ...  \n",
              "5105          -0.749168       0  \n",
              "5106           0.144690       0  \n",
              "5107           0.144690       0  \n",
              "5108          -0.749168       0  \n",
              "5109           1.038548       0  \n",
              "\n",
              "[5109 rows x 11 columns]"
            ],
            "text/html": [
              "\n",
              "  <div id=\"df-d5173b10-a355-42f7-b470-bc788ff7fb2e\" class=\"colab-df-container\">\n",
              "    <div>\n",
              "<style scoped>\n",
              "    .dataframe tbody tr th:only-of-type {\n",
              "        vertical-align: middle;\n",
              "    }\n",
              "\n",
              "    .dataframe tbody tr th {\n",
              "        vertical-align: top;\n",
              "    }\n",
              "\n",
              "    .dataframe thead th {\n",
              "        text-align: right;\n",
              "    }\n",
              "</style>\n",
              "<table border=\"1\" class=\"dataframe\">\n",
              "  <thead>\n",
              "    <tr style=\"text-align: right;\">\n",
              "      <th></th>\n",
              "      <th>gender</th>\n",
              "      <th>age</th>\n",
              "      <th>hypertension</th>\n",
              "      <th>heart_disease</th>\n",
              "      <th>ever_married</th>\n",
              "      <th>Residence_type</th>\n",
              "      <th>avg_glucose_level</th>\n",
              "      <th>bmi</th>\n",
              "      <th>smoking_status_encoded</th>\n",
              "      <th>work_type_encoded</th>\n",
              "      <th>stroke</th>\n",
              "    </tr>\n",
              "  </thead>\n",
              "  <tbody>\n",
              "    <tr>\n",
              "      <th>0</th>\n",
              "      <td>-1.189675</td>\n",
              "      <td>1.051139</td>\n",
              "      <td>-0.328605</td>\n",
              "      <td>4.184190</td>\n",
              "      <td>0.723607</td>\n",
              "      <td>-0.983788</td>\n",
              "      <td>2.706185</td>\n",
              "      <td>1.004794</td>\n",
              "      <td>-1.451687</td>\n",
              "      <td>-0.749168</td>\n",
              "      <td>1</td>\n",
              "    </tr>\n",
              "    <tr>\n",
              "      <th>1</th>\n",
              "      <td>0.840401</td>\n",
              "      <td>0.785812</td>\n",
              "      <td>-0.328605</td>\n",
              "      <td>-0.238948</td>\n",
              "      <td>0.723607</td>\n",
              "      <td>1.016281</td>\n",
              "      <td>2.121444</td>\n",
              "      <td>-0.099133</td>\n",
              "      <td>-0.536275</td>\n",
              "      <td>0.144690</td>\n",
              "      <td>1</td>\n",
              "    </tr>\n",
              "    <tr>\n",
              "      <th>2</th>\n",
              "      <td>-1.189675</td>\n",
              "      <td>1.626015</td>\n",
              "      <td>-0.328605</td>\n",
              "      <td>4.184190</td>\n",
              "      <td>0.723607</td>\n",
              "      <td>1.016281</td>\n",
              "      <td>-0.004867</td>\n",
              "      <td>0.472312</td>\n",
              "      <td>-0.536275</td>\n",
              "      <td>-0.749168</td>\n",
              "      <td>1</td>\n",
              "    </tr>\n",
              "    <tr>\n",
              "      <th>3</th>\n",
              "      <td>0.840401</td>\n",
              "      <td>0.255157</td>\n",
              "      <td>-0.328605</td>\n",
              "      <td>-0.238948</td>\n",
              "      <td>0.723607</td>\n",
              "      <td>-0.983788</td>\n",
              "      <td>1.437332</td>\n",
              "      <td>0.719072</td>\n",
              "      <td>0.379137</td>\n",
              "      <td>-0.749168</td>\n",
              "      <td>1</td>\n",
              "    </tr>\n",
              "    <tr>\n",
              "      <th>4</th>\n",
              "      <td>0.840401</td>\n",
              "      <td>1.581794</td>\n",
              "      <td>3.042569</td>\n",
              "      <td>-0.238948</td>\n",
              "      <td>0.723607</td>\n",
              "      <td>1.016281</td>\n",
              "      <td>1.501150</td>\n",
              "      <td>-0.631615</td>\n",
              "      <td>-0.536275</td>\n",
              "      <td>0.144690</td>\n",
              "      <td>1</td>\n",
              "    </tr>\n",
              "    <tr>\n",
              "      <th>...</th>\n",
              "      <td>...</td>\n",
              "      <td>...</td>\n",
              "      <td>...</td>\n",
              "      <td>...</td>\n",
              "      <td>...</td>\n",
              "      <td>...</td>\n",
              "      <td>...</td>\n",
              "      <td>...</td>\n",
              "      <td>...</td>\n",
              "      <td>...</td>\n",
              "      <td>...</td>\n",
              "    </tr>\n",
              "    <tr>\n",
              "      <th>5105</th>\n",
              "      <td>0.840401</td>\n",
              "      <td>1.626015</td>\n",
              "      <td>3.042569</td>\n",
              "      <td>-0.238948</td>\n",
              "      <td>0.723607</td>\n",
              "      <td>-0.983788</td>\n",
              "      <td>-0.494433</td>\n",
              "      <td>-0.099133</td>\n",
              "      <td>-0.536275</td>\n",
              "      <td>-0.749168</td>\n",
              "      <td>0</td>\n",
              "    </tr>\n",
              "    <tr>\n",
              "      <th>5106</th>\n",
              "      <td>0.840401</td>\n",
              "      <td>1.670236</td>\n",
              "      <td>-0.328605</td>\n",
              "      <td>-0.238948</td>\n",
              "      <td>0.723607</td>\n",
              "      <td>-0.983788</td>\n",
              "      <td>0.420881</td>\n",
              "      <td>1.446365</td>\n",
              "      <td>-0.536275</td>\n",
              "      <td>0.144690</td>\n",
              "      <td>0</td>\n",
              "    </tr>\n",
              "    <tr>\n",
              "      <th>5107</th>\n",
              "      <td>0.840401</td>\n",
              "      <td>-0.363940</td>\n",
              "      <td>-0.328605</td>\n",
              "      <td>-0.238948</td>\n",
              "      <td>0.723607</td>\n",
              "      <td>1.016281</td>\n",
              "      <td>-0.511216</td>\n",
              "      <td>0.225552</td>\n",
              "      <td>-0.536275</td>\n",
              "      <td>0.144690</td>\n",
              "      <td>0</td>\n",
              "    </tr>\n",
              "    <tr>\n",
              "      <th>5108</th>\n",
              "      <td>-1.189675</td>\n",
              "      <td>0.343600</td>\n",
              "      <td>-0.328605</td>\n",
              "      <td>-0.238948</td>\n",
              "      <td>0.723607</td>\n",
              "      <td>1.016281</td>\n",
              "      <td>1.328245</td>\n",
              "      <td>-0.423817</td>\n",
              "      <td>-1.451687</td>\n",
              "      <td>-0.749168</td>\n",
              "      <td>0</td>\n",
              "    </tr>\n",
              "    <tr>\n",
              "      <th>5109</th>\n",
              "      <td>0.840401</td>\n",
              "      <td>0.034051</td>\n",
              "      <td>-0.328605</td>\n",
              "      <td>-0.238948</td>\n",
              "      <td>0.723607</td>\n",
              "      <td>-0.983788</td>\n",
              "      <td>-0.460647</td>\n",
              "      <td>-0.345893</td>\n",
              "      <td>1.294550</td>\n",
              "      <td>1.038548</td>\n",
              "      <td>0</td>\n",
              "    </tr>\n",
              "  </tbody>\n",
              "</table>\n",
              "<p>5109 rows × 11 columns</p>\n",
              "</div>\n",
              "    <div class=\"colab-df-buttons\">\n",
              "\n",
              "  <div class=\"colab-df-container\">\n",
              "    <button class=\"colab-df-convert\" onclick=\"convertToInteractive('df-d5173b10-a355-42f7-b470-bc788ff7fb2e')\"\n",
              "            title=\"Convert this dataframe to an interactive table.\"\n",
              "            style=\"display:none;\">\n",
              "\n",
              "  <svg xmlns=\"http://www.w3.org/2000/svg\" height=\"24px\" viewBox=\"0 -960 960 960\">\n",
              "    <path d=\"M120-120v-720h720v720H120Zm60-500h600v-160H180v160Zm220 220h160v-160H400v160Zm0 220h160v-160H400v160ZM180-400h160v-160H180v160Zm440 0h160v-160H620v160ZM180-180h160v-160H180v160Zm440 0h160v-160H620v160Z\"/>\n",
              "  </svg>\n",
              "    </button>\n",
              "\n",
              "  <style>\n",
              "    .colab-df-container {\n",
              "      display:flex;\n",
              "      gap: 12px;\n",
              "    }\n",
              "\n",
              "    .colab-df-convert {\n",
              "      background-color: #E8F0FE;\n",
              "      border: none;\n",
              "      border-radius: 50%;\n",
              "      cursor: pointer;\n",
              "      display: none;\n",
              "      fill: #1967D2;\n",
              "      height: 32px;\n",
              "      padding: 0 0 0 0;\n",
              "      width: 32px;\n",
              "    }\n",
              "\n",
              "    .colab-df-convert:hover {\n",
              "      background-color: #E2EBFA;\n",
              "      box-shadow: 0px 1px 2px rgba(60, 64, 67, 0.3), 0px 1px 3px 1px rgba(60, 64, 67, 0.15);\n",
              "      fill: #174EA6;\n",
              "    }\n",
              "\n",
              "    .colab-df-buttons div {\n",
              "      margin-bottom: 4px;\n",
              "    }\n",
              "\n",
              "    [theme=dark] .colab-df-convert {\n",
              "      background-color: #3B4455;\n",
              "      fill: #D2E3FC;\n",
              "    }\n",
              "\n",
              "    [theme=dark] .colab-df-convert:hover {\n",
              "      background-color: #434B5C;\n",
              "      box-shadow: 0px 1px 3px 1px rgba(0, 0, 0, 0.15);\n",
              "      filter: drop-shadow(0px 1px 2px rgba(0, 0, 0, 0.3));\n",
              "      fill: #FFFFFF;\n",
              "    }\n",
              "  </style>\n",
              "\n",
              "    <script>\n",
              "      const buttonEl =\n",
              "        document.querySelector('#df-d5173b10-a355-42f7-b470-bc788ff7fb2e button.colab-df-convert');\n",
              "      buttonEl.style.display =\n",
              "        google.colab.kernel.accessAllowed ? 'block' : 'none';\n",
              "\n",
              "      async function convertToInteractive(key) {\n",
              "        const element = document.querySelector('#df-d5173b10-a355-42f7-b470-bc788ff7fb2e');\n",
              "        const dataTable =\n",
              "          await google.colab.kernel.invokeFunction('convertToInteractive',\n",
              "                                                    [key], {});\n",
              "        if (!dataTable) return;\n",
              "\n",
              "        const docLinkHtml = 'Like what you see? Visit the ' +\n",
              "          '<a target=\"_blank\" href=https://colab.research.google.com/notebooks/data_table.ipynb>data table notebook</a>'\n",
              "          + ' to learn more about interactive tables.';\n",
              "        element.innerHTML = '';\n",
              "        dataTable['output_type'] = 'display_data';\n",
              "        await google.colab.output.renderOutput(dataTable, element);\n",
              "        const docLink = document.createElement('div');\n",
              "        docLink.innerHTML = docLinkHtml;\n",
              "        element.appendChild(docLink);\n",
              "      }\n",
              "    </script>\n",
              "  </div>\n",
              "\n",
              "\n",
              "<div id=\"df-2267e394-ef1b-4b00-9e9a-afb613828909\">\n",
              "  <button class=\"colab-df-quickchart\" onclick=\"quickchart('df-2267e394-ef1b-4b00-9e9a-afb613828909')\"\n",
              "            title=\"Suggest charts\"\n",
              "            style=\"display:none;\">\n",
              "\n",
              "<svg xmlns=\"http://www.w3.org/2000/svg\" height=\"24px\"viewBox=\"0 0 24 24\"\n",
              "     width=\"24px\">\n",
              "    <g>\n",
              "        <path d=\"M19 3H5c-1.1 0-2 .9-2 2v14c0 1.1.9 2 2 2h14c1.1 0 2-.9 2-2V5c0-1.1-.9-2-2-2zM9 17H7v-7h2v7zm4 0h-2V7h2v10zm4 0h-2v-4h2v4z\"/>\n",
              "    </g>\n",
              "</svg>\n",
              "  </button>\n",
              "\n",
              "<style>\n",
              "  .colab-df-quickchart {\n",
              "      --bg-color: #E8F0FE;\n",
              "      --fill-color: #1967D2;\n",
              "      --hover-bg-color: #E2EBFA;\n",
              "      --hover-fill-color: #174EA6;\n",
              "      --disabled-fill-color: #AAA;\n",
              "      --disabled-bg-color: #DDD;\n",
              "  }\n",
              "\n",
              "  [theme=dark] .colab-df-quickchart {\n",
              "      --bg-color: #3B4455;\n",
              "      --fill-color: #D2E3FC;\n",
              "      --hover-bg-color: #434B5C;\n",
              "      --hover-fill-color: #FFFFFF;\n",
              "      --disabled-bg-color: #3B4455;\n",
              "      --disabled-fill-color: #666;\n",
              "  }\n",
              "\n",
              "  .colab-df-quickchart {\n",
              "    background-color: var(--bg-color);\n",
              "    border: none;\n",
              "    border-radius: 50%;\n",
              "    cursor: pointer;\n",
              "    display: none;\n",
              "    fill: var(--fill-color);\n",
              "    height: 32px;\n",
              "    padding: 0;\n",
              "    width: 32px;\n",
              "  }\n",
              "\n",
              "  .colab-df-quickchart:hover {\n",
              "    background-color: var(--hover-bg-color);\n",
              "    box-shadow: 0 1px 2px rgba(60, 64, 67, 0.3), 0 1px 3px 1px rgba(60, 64, 67, 0.15);\n",
              "    fill: var(--button-hover-fill-color);\n",
              "  }\n",
              "\n",
              "  .colab-df-quickchart-complete:disabled,\n",
              "  .colab-df-quickchart-complete:disabled:hover {\n",
              "    background-color: var(--disabled-bg-color);\n",
              "    fill: var(--disabled-fill-color);\n",
              "    box-shadow: none;\n",
              "  }\n",
              "\n",
              "  .colab-df-spinner {\n",
              "    border: 2px solid var(--fill-color);\n",
              "    border-color: transparent;\n",
              "    border-bottom-color: var(--fill-color);\n",
              "    animation:\n",
              "      spin 1s steps(1) infinite;\n",
              "  }\n",
              "\n",
              "  @keyframes spin {\n",
              "    0% {\n",
              "      border-color: transparent;\n",
              "      border-bottom-color: var(--fill-color);\n",
              "      border-left-color: var(--fill-color);\n",
              "    }\n",
              "    20% {\n",
              "      border-color: transparent;\n",
              "      border-left-color: var(--fill-color);\n",
              "      border-top-color: var(--fill-color);\n",
              "    }\n",
              "    30% {\n",
              "      border-color: transparent;\n",
              "      border-left-color: var(--fill-color);\n",
              "      border-top-color: var(--fill-color);\n",
              "      border-right-color: var(--fill-color);\n",
              "    }\n",
              "    40% {\n",
              "      border-color: transparent;\n",
              "      border-right-color: var(--fill-color);\n",
              "      border-top-color: var(--fill-color);\n",
              "    }\n",
              "    60% {\n",
              "      border-color: transparent;\n",
              "      border-right-color: var(--fill-color);\n",
              "    }\n",
              "    80% {\n",
              "      border-color: transparent;\n",
              "      border-right-color: var(--fill-color);\n",
              "      border-bottom-color: var(--fill-color);\n",
              "    }\n",
              "    90% {\n",
              "      border-color: transparent;\n",
              "      border-bottom-color: var(--fill-color);\n",
              "    }\n",
              "  }\n",
              "</style>\n",
              "\n",
              "  <script>\n",
              "    async function quickchart(key) {\n",
              "      const quickchartButtonEl =\n",
              "        document.querySelector('#' + key + ' button');\n",
              "      quickchartButtonEl.disabled = true;  // To prevent multiple clicks.\n",
              "      quickchartButtonEl.classList.add('colab-df-spinner');\n",
              "      try {\n",
              "        const charts = await google.colab.kernel.invokeFunction(\n",
              "            'suggestCharts', [key], {});\n",
              "      } catch (error) {\n",
              "        console.error('Error during call to suggestCharts:', error);\n",
              "      }\n",
              "      quickchartButtonEl.classList.remove('colab-df-spinner');\n",
              "      quickchartButtonEl.classList.add('colab-df-quickchart-complete');\n",
              "    }\n",
              "    (() => {\n",
              "      let quickchartButtonEl =\n",
              "        document.querySelector('#df-2267e394-ef1b-4b00-9e9a-afb613828909 button');\n",
              "      quickchartButtonEl.style.display =\n",
              "        google.colab.kernel.accessAllowed ? 'block' : 'none';\n",
              "    })();\n",
              "  </script>\n",
              "</div>\n",
              "    </div>\n",
              "  </div>\n"
            ]
          },
          "metadata": {},
          "execution_count": 201
        }
      ]
    },
    {
      "cell_type": "markdown",
      "source": [
        "##6.Разбиение данных на тестовую и обучающую выборку."
      ],
      "metadata": {
        "id": "Mmp7ZoJzokkM"
      }
    },
    {
      "cell_type": "markdown",
      "source": [
        "Отведем под train 75%, а под test 25%."
      ],
      "metadata": {
        "id": "uvps82TxvHAW"
      }
    },
    {
      "cell_type": "code",
      "source": [
        "X = data.drop('stroke', axis = 1)\n",
        "y = data['stroke']\n",
        "feature_names = X.columns"
      ],
      "metadata": {
        "id": "AlFgbl16okI7"
      },
      "execution_count": 202,
      "outputs": []
    },
    {
      "cell_type": "code",
      "source": [
        "from sklearn.model_selection import train_test_split\n",
        "X_train, X_test, y_train, y_test = train_test_split(X, y, test_size = 0.25, random_state = 42)\n",
        "\n",
        "N_train, _ = X_train.shape\n",
        "N_test,  _ = X_test.shape\n",
        "\n",
        "N_train, N_test"
      ],
      "metadata": {
        "colab": {
          "base_uri": "https://localhost:8080/"
        },
        "id": "SIXexxULpBgZ",
        "outputId": "d755631f-0602-4e10-b2ed-e9c819003233"
      },
      "execution_count": 203,
      "outputs": [
        {
          "output_type": "execute_result",
          "data": {
            "text/plain": [
              "(3831, 1278)"
            ]
          },
          "metadata": {},
          "execution_count": 203
        }
      ]
    },
    {
      "cell_type": "markdown",
      "source": [
        "##7.Использование KNN."
      ],
      "metadata": {
        "id": "Frfhs5sapnDu"
      }
    },
    {
      "cell_type": "markdown",
      "source": [
        "Прежде всего применим KNN, т.к. этот метод устойчив к выбросам и достаточно точен, поэтому его можно использовать как хороший baseline во многих задачах, в том числе в нашей."
      ],
      "metadata": {
        "id": "gXGOWs0DuR87"
      }
    },
    {
      "cell_type": "markdown",
      "source": [
        "Для начала запустим классификатор для 3 соседей."
      ],
      "metadata": {
        "id": "pKJQwPAOqphH"
      }
    },
    {
      "cell_type": "code",
      "source": [
        "from sklearn.neighbors import KNeighborsClassifier\n",
        "\n",
        "model = KNeighborsClassifier(n_neighbors = 3)\n",
        "model.fit(X_train, y_train)"
      ],
      "metadata": {
        "colab": {
          "base_uri": "https://localhost:8080/",
          "height": 75
        },
        "id": "r46md4FdpmtF",
        "outputId": "1b8074d5-dec5-4897-9510-e4905f3fb08e"
      },
      "execution_count": 204,
      "outputs": [
        {
          "output_type": "execute_result",
          "data": {
            "text/plain": [
              "KNeighborsClassifier(n_neighbors=3)"
            ],
            "text/html": [
              "<style>#sk-container-id-6 {color: black;background-color: white;}#sk-container-id-6 pre{padding: 0;}#sk-container-id-6 div.sk-toggleable {background-color: white;}#sk-container-id-6 label.sk-toggleable__label {cursor: pointer;display: block;width: 100%;margin-bottom: 0;padding: 0.3em;box-sizing: border-box;text-align: center;}#sk-container-id-6 label.sk-toggleable__label-arrow:before {content: \"▸\";float: left;margin-right: 0.25em;color: #696969;}#sk-container-id-6 label.sk-toggleable__label-arrow:hover:before {color: black;}#sk-container-id-6 div.sk-estimator:hover label.sk-toggleable__label-arrow:before {color: black;}#sk-container-id-6 div.sk-toggleable__content {max-height: 0;max-width: 0;overflow: hidden;text-align: left;background-color: #f0f8ff;}#sk-container-id-6 div.sk-toggleable__content pre {margin: 0.2em;color: black;border-radius: 0.25em;background-color: #f0f8ff;}#sk-container-id-6 input.sk-toggleable__control:checked~div.sk-toggleable__content {max-height: 200px;max-width: 100%;overflow: auto;}#sk-container-id-6 input.sk-toggleable__control:checked~label.sk-toggleable__label-arrow:before {content: \"▾\";}#sk-container-id-6 div.sk-estimator input.sk-toggleable__control:checked~label.sk-toggleable__label {background-color: #d4ebff;}#sk-container-id-6 div.sk-label input.sk-toggleable__control:checked~label.sk-toggleable__label {background-color: #d4ebff;}#sk-container-id-6 input.sk-hidden--visually {border: 0;clip: rect(1px 1px 1px 1px);clip: rect(1px, 1px, 1px, 1px);height: 1px;margin: -1px;overflow: hidden;padding: 0;position: absolute;width: 1px;}#sk-container-id-6 div.sk-estimator {font-family: monospace;background-color: #f0f8ff;border: 1px dotted black;border-radius: 0.25em;box-sizing: border-box;margin-bottom: 0.5em;}#sk-container-id-6 div.sk-estimator:hover {background-color: #d4ebff;}#sk-container-id-6 div.sk-parallel-item::after {content: \"\";width: 100%;border-bottom: 1px solid gray;flex-grow: 1;}#sk-container-id-6 div.sk-label:hover label.sk-toggleable__label {background-color: #d4ebff;}#sk-container-id-6 div.sk-serial::before {content: \"\";position: absolute;border-left: 1px solid gray;box-sizing: border-box;top: 0;bottom: 0;left: 50%;z-index: 0;}#sk-container-id-6 div.sk-serial {display: flex;flex-direction: column;align-items: center;background-color: white;padding-right: 0.2em;padding-left: 0.2em;position: relative;}#sk-container-id-6 div.sk-item {position: relative;z-index: 1;}#sk-container-id-6 div.sk-parallel {display: flex;align-items: stretch;justify-content: center;background-color: white;position: relative;}#sk-container-id-6 div.sk-item::before, #sk-container-id-6 div.sk-parallel-item::before {content: \"\";position: absolute;border-left: 1px solid gray;box-sizing: border-box;top: 0;bottom: 0;left: 50%;z-index: -1;}#sk-container-id-6 div.sk-parallel-item {display: flex;flex-direction: column;z-index: 1;position: relative;background-color: white;}#sk-container-id-6 div.sk-parallel-item:first-child::after {align-self: flex-end;width: 50%;}#sk-container-id-6 div.sk-parallel-item:last-child::after {align-self: flex-start;width: 50%;}#sk-container-id-6 div.sk-parallel-item:only-child::after {width: 0;}#sk-container-id-6 div.sk-dashed-wrapped {border: 1px dashed gray;margin: 0 0.4em 0.5em 0.4em;box-sizing: border-box;padding-bottom: 0.4em;background-color: white;}#sk-container-id-6 div.sk-label label {font-family: monospace;font-weight: bold;display: inline-block;line-height: 1.2em;}#sk-container-id-6 div.sk-label-container {text-align: center;}#sk-container-id-6 div.sk-container {/* jupyter's `normalize.less` sets `[hidden] { display: none; }` but bootstrap.min.css set `[hidden] { display: none !important; }` so we also need the `!important` here to be able to override the default hidden behavior on the sphinx rendered scikit-learn.org. See: https://github.com/scikit-learn/scikit-learn/issues/21755 */display: inline-block !important;position: relative;}#sk-container-id-6 div.sk-text-repr-fallback {display: none;}</style><div id=\"sk-container-id-6\" class=\"sk-top-container\"><div class=\"sk-text-repr-fallback\"><pre>KNeighborsClassifier(n_neighbors=3)</pre><b>In a Jupyter environment, please rerun this cell to show the HTML representation or trust the notebook. <br />On GitHub, the HTML representation is unable to render, please try loading this page with nbviewer.org.</b></div><div class=\"sk-container\" hidden><div class=\"sk-item\"><div class=\"sk-estimator sk-toggleable\"><input class=\"sk-toggleable__control sk-hidden--visually\" id=\"sk-estimator-id-6\" type=\"checkbox\" checked><label for=\"sk-estimator-id-6\" class=\"sk-toggleable__label sk-toggleable__label-arrow\">KNeighborsClassifier</label><div class=\"sk-toggleable__content\"><pre>KNeighborsClassifier(n_neighbors=3)</pre></div></div></div></div></div>"
            ]
          },
          "metadata": {},
          "execution_count": 204
        }
      ]
    },
    {
      "cell_type": "code",
      "source": [
        "y_train_predict = model.predict(X_train)\n",
        "y_test_predict  = model.predict(X_test)"
      ],
      "metadata": {
        "id": "a2lC8mnVtapZ"
      },
      "execution_count": 205,
      "outputs": []
    },
    {
      "cell_type": "code",
      "source": [
        "y_test_predict = model.predict(X_test)\n",
        "y_train_predict = model.predict(X_train)\n",
        "err_test  = np.mean(y_test  != y_test_predict)\n",
        "err_train  = np.mean(y_train != y_train_predict)"
      ],
      "metadata": {
        "id": "rU8oCL5gtbfJ"
      },
      "execution_count": 206,
      "outputs": []
    },
    {
      "cell_type": "code",
      "source": [
        "print(err_train)\n",
        "print(err_test)"
      ],
      "metadata": {
        "colab": {
          "base_uri": "https://localhost:8080/"
        },
        "id": "usyyTbe6tfV5",
        "outputId": "4774c6cb-7c0c-4ce7-cc9e-540d38c045e5"
      },
      "execution_count": 207,
      "outputs": [
        {
          "output_type": "stream",
          "name": "stdout",
          "text": [
            "0.039415296267293135\n",
            "0.06964006259780908\n"
          ]
        }
      ]
    },
    {
      "cell_type": "markdown",
      "source": [
        "Видим ошибку в 3.9% на train и 6.9% на test.\n"
      ],
      "metadata": {
        "id": "_xf5FVoUvbjZ"
      }
    },
    {
      "cell_type": "markdown",
      "source": [
        "Теперь попробуем подобрать лучшее количество соседей и выведем ошибку для этого значения гиперпараметра:"
      ],
      "metadata": {
        "id": "REuD2weYyq29"
      }
    },
    {
      "cell_type": "code",
      "source": [
        "from sklearn.model_selection import GridSearchCV\n",
        "nnb = [1, 3, 5, 10, 12, 15, 20, 35, 45, 55]\n",
        "knn = KNeighborsClassifier()\n",
        "grid = GridSearchCV(knn, param_grid = {'n_neighbors': nnb}, cv=10)\n",
        "grid.fit(X_train, y_train)\n",
        "\n",
        "best_cv_err = 1 - grid.best_score_\n",
        "best_n_neighbors = grid.best_estimator_.n_neighbors\n",
        "print(best_cv_err, best_n_neighbors)"
      ],
      "metadata": {
        "colab": {
          "base_uri": "https://localhost:8080/"
        },
        "id": "DooGMjmiyxrr",
        "outputId": "03069747-acc0-467e-82ba-97dde824b4a9"
      },
      "execution_count": 208,
      "outputs": [
        {
          "output_type": "stream",
          "name": "stdout",
          "text": [
            "0.04411376740644035 12\n"
          ]
        }
      ]
    },
    {
      "cell_type": "markdown",
      "source": [
        "Лучшее количество соседей равно 12, выведем ошибки на train и на test:"
      ],
      "metadata": {
        "id": "3Hl6Dy5k0VXg"
      }
    },
    {
      "cell_type": "code",
      "source": [
        "knn2 = KNeighborsClassifier(n_neighbors = best_n_neighbors).fit(X_train, y_train)\n",
        "\n",
        "err_train2 = np.mean(y_train != knn2.predict(X_train))\n",
        "err_test2  = np.mean(y_test  != knn2.predict(X_test))\n",
        "\n",
        "print(err_train2, err_test2)"
      ],
      "metadata": {
        "colab": {
          "base_uri": "https://localhost:8080/"
        },
        "id": "WQS0JqOY0uOk",
        "outputId": "14189f61-be48-4338-b429-090b02d169ee"
      },
      "execution_count": 209,
      "outputs": [
        {
          "output_type": "stream",
          "name": "stdout",
          "text": [
            "0.04411380840511616 0.06259780907668232\n"
          ]
        }
      ]
    },
    {
      "cell_type": "markdown",
      "source": [
        "Видим небольшое ухудшение до 4.4% на обучающей выборке и небольшое улучшение до 6.2% на тестовой выборке."
      ],
      "metadata": {
        "id": "DaBhSuF33V7M"
      }
    },
    {
      "cell_type": "markdown",
      "source": [
        "Для лучшего понимания эффективности метода построим confusion matrix:"
      ],
      "metadata": {
        "id": "BkNQaBeT7NUd"
      }
    },
    {
      "cell_type": "code",
      "source": [
        "from sklearn.metrics import confusion_matrix\n",
        "\n",
        "sns.heatmap(confusion_matrix(y_test, y_test_predict), square=True, annot=True, fmt='.0f', cmap=plt.cm.Blues)\n",
        "plt.xlabel(\"Predicted label\")\n",
        "plt.ylabel(\"True label\")\n",
        "pass\n",
        "print(confusion_matrix(y_test,knn2.predict(X_test)))"
      ],
      "metadata": {
        "colab": {
          "base_uri": "https://localhost:8080/",
          "height": 760
        },
        "id": "bfgpldcn4YFC",
        "outputId": "e4e982a0-7c0d-4f62-96cc-6ce171772a3e"
      },
      "execution_count": 210,
      "outputs": [
        {
          "output_type": "stream",
          "name": "stdout",
          "text": [
            "[[1198    0]\n",
            " [  80    0]]\n"
          ]
        },
        {
          "output_type": "display_data",
          "data": {
            "text/plain": [
              "<Figure size 1170x827 with 2 Axes>"
            ],
            "image/png": "[encoded data removed]"
          },
          "metadata": {}
        }
      ]
    },
    {
      "cell_type": "markdown",
      "source": [
        "##8.Выводы."
      ],
      "metadata": {
        "id": "NNPHoakj80-T"
      }
    },
    {
      "cell_type": "markdown",
      "source": [
        "Применив KNN получаем неплохую точность, отсутствие переобучения и недообучения, что довольно неплохо, несмотря на то что модель не очень хорошо справляется с предсказанием наличия инсульта(на это, скорее всего влияет несбалансированность классов)."
      ],
      "metadata": {
        "id": "1vt1Tqp-88Ag"
      }
    },
    {
      "cell_type": "markdown",
      "source": [
        "##9.Попытка применить другие классификаторы.\n"
      ],
      "metadata": {
        "id": "DXSXUWsL7UeX"
      }
    },
    {
      "cell_type": "markdown",
      "source": [
        "###SVC"
      ],
      "metadata": {
        "id": "_GMoBq_hI9sr"
      }
    },
    {
      "cell_type": "code",
      "source": [
        "from sklearn.svm import SVC\n",
        "svc = SVC(gamma='auto')\n",
        "svc.fit(X_train, y_train)\n",
        "\n",
        "err_train = np.mean(y_train != svc.predict(X_train))\n",
        "err_test  = np.mean(y_test  != svc.predict(X_test))\n",
        "\n",
        "print(err_train, err_test)"
      ],
      "metadata": {
        "colab": {
          "base_uri": "https://localhost:8080/"
        },
        "id": "ND89qNvpI9Cx",
        "outputId": "681a8952-c75d-44b1-92cc-e781473a8bd5"
      },
      "execution_count": 211,
      "outputs": [
        {
          "output_type": "stream",
          "name": "stdout",
          "text": [
            "0.0435917515009136 0.06259780907668232\n"
          ]
        }
      ]
    },
    {
      "cell_type": "code",
      "source": [
        "sns.heatmap(confusion_matrix(y_test, svc.predict(X_test)), square=True, annot=True, fmt='.0f', cmap=plt.cm.Blues)\n",
        "plt.xlabel(\"Predicted label\")\n",
        "plt.ylabel(\"True label\")\n",
        "pass\n",
        "print(confusion_matrix(y_test,svc.predict(X_test)))"
      ],
      "metadata": {
        "colab": {
          "base_uri": "https://localhost:8080/",
          "height": 760
        },
        "id": "CurYWyaCP6ML",
        "outputId": "e87c6127-4bfd-4e18-84d3-13cf1ae7832b"
      },
      "execution_count": 212,
      "outputs": [
        {
          "output_type": "stream",
          "name": "stdout",
          "text": [
            "[[1198    0]\n",
            " [  80    0]]\n"
          ]
        },
        {
          "output_type": "display_data",
          "data": {
            "text/plain": [
              "<Figure size 1170x827 with 2 Axes>"
            ],
            "image/png": "[encoded data removed]"
          },
          "metadata": {}
        }
      ]
    },
    {
      "cell_type": "markdown",
      "source": [
        "При использовании машины опорных векторов ошибка на тесте не особо уменьшилась, при построении confusion matrix видно, что лучше чем в KNN предсказывается отсутствие инсульта, но также не определяется его наличие"
      ],
      "metadata": {
        "id": "OXMqoIdEQNyQ"
      }
    },
    {
      "cell_type": "markdown",
      "source": [
        "###XGBOOST"
      ],
      "metadata": {
        "id": "qO-W40QsNE1-"
      }
    },
    {
      "cell_type": "code",
      "source": [
        "import xgboost\n",
        "xgb = xgboost.XGBClassifier(enable_categorical = True)\n",
        "xgb.fit(X_train, y_train)\n",
        "err_train = np.mean(y_train != xgb.predict(X_train))\n",
        "err_test  = np.mean(y_test  != xgb.predict(X_test))\n",
        "\n",
        "print(err_train, err_test)"
      ],
      "metadata": {
        "colab": {
          "base_uri": "https://localhost:8080/"
        },
        "id": "h0aqQvu4NH7S",
        "outputId": "c76603d5-fcde-4c04-aac1-ec8e4e3012db"
      },
      "execution_count": 214,
      "outputs": [
        {
          "output_type": "stream",
          "name": "stdout",
          "text": [
            "0.0005220569042025581 0.06651017214397496\n"
          ]
        }
      ]
    },
    {
      "cell_type": "code",
      "source": [
        "sns.heatmap(confusion_matrix(y_test, xgb.predict(X_test)), square=True, annot=True, fmt='.0f', cmap=plt.cm.Blues)\n",
        "plt.xlabel(\"Predicted label\")\n",
        "plt.ylabel(\"True label\")\n",
        "pass\n",
        "print(confusion_matrix(y_test, xgb.predict(X_test)))"
      ],
      "metadata": {
        "colab": {
          "base_uri": "https://localhost:8080/",
          "height": 760
        },
        "id": "we046zK0f34k",
        "outputId": "c30679b4-9d83-493a-a8bf-bfa9d8d88c88"
      },
      "execution_count": 215,
      "outputs": [
        {
          "output_type": "stream",
          "name": "stdout",
          "text": [
            "[[1187   11]\n",
            " [  74    6]]\n"
          ]
        },
        {
          "output_type": "display_data",
          "data": {
            "text/plain": [
              "<Figure size 1170x827 with 2 Axes>"
            ],
            "image/png": "[encoded data removed]"
          },
          "metadata": {}
        }
      ]
    },
    {
      "cell_type": "markdown",
      "source": [
        "XGBOOST как алгоритм лучше работающий с несбалансированнми классами уже может верно определить и наличие инсульта, пусть всё ещё не особо хорошо справляется с этим, ошибка на тесте немного больше, чем у предыдущих моделей, а ошибка на обучающей выборке крайне мала, что может свидетельствовать о переобучении, несмотря на которое модель всё ещё неплохо справляется и на тестовой выборке."
      ],
      "metadata": {
        "id": "RCliakrZg9Um"
      }
    },
    {
      "cell_type": "markdown",
      "source": [
        "###Random Forest"
      ],
      "metadata": {
        "id": "8VSeZCtpNIKS"
      }
    },
    {
      "cell_type": "code",
      "source": [
        "from sklearn.ensemble import RandomForestClassifier\n",
        "rfc = RandomForestClassifier()\n",
        "rfc.fit(X_train, y_train.values.ravel())"
      ],
      "metadata": {
        "colab": {
          "base_uri": "https://localhost:8080/",
          "height": 75
        },
        "id": "5YCOuBG9NL94",
        "outputId": "7bd4bc73-a287-4035-df99-feec51f2bfe8"
      },
      "execution_count": 216,
      "outputs": [
        {
          "output_type": "execute_result",
          "data": {
            "text/plain": [
              "RandomForestClassifier()"
            ],
            "text/html": [
              "<style>#sk-container-id-7 {color: black;background-color: white;}#sk-container-id-7 pre{padding: 0;}#sk-container-id-7 div.sk-toggleable {background-color: white;}#sk-container-id-7 label.sk-toggleable__label {cursor: pointer;display: block;width: 100%;margin-bottom: 0;padding: 0.3em;box-sizing: border-box;text-align: center;}#sk-container-id-7 label.sk-toggleable__label-arrow:before {content: \"▸\";float: left;margin-right: 0.25em;color: #696969;}#sk-container-id-7 label.sk-toggleable__label-arrow:hover:before {color: black;}#sk-container-id-7 div.sk-estimator:hover label.sk-toggleable__label-arrow:before {color: black;}#sk-container-id-7 div.sk-toggleable__content {max-height: 0;max-width: 0;overflow: hidden;text-align: left;background-color: #f0f8ff;}#sk-container-id-7 div.sk-toggleable__content pre {margin: 0.2em;color: black;border-radius: 0.25em;background-color: #f0f8ff;}#sk-container-id-7 input.sk-toggleable__control:checked~div.sk-toggleable__content {max-height: 200px;max-width: 100%;overflow: auto;}#sk-container-id-7 input.sk-toggleable__control:checked~label.sk-toggleable__label-arrow:before {content: \"▾\";}#sk-container-id-7 div.sk-estimator input.sk-toggleable__control:checked~label.sk-toggleable__label {background-color: #d4ebff;}#sk-container-id-7 div.sk-label input.sk-toggleable__control:checked~label.sk-toggleable__label {background-color: #d4ebff;}#sk-container-id-7 input.sk-hidden--visually {border: 0;clip: rect(1px 1px 1px 1px);clip: rect(1px, 1px, 1px, 1px);height: 1px;margin: -1px;overflow: hidden;padding: 0;position: absolute;width: 1px;}#sk-container-id-7 div.sk-estimator {font-family: monospace;background-color: #f0f8ff;border: 1px dotted black;border-radius: 0.25em;box-sizing: border-box;margin-bottom: 0.5em;}#sk-container-id-7 div.sk-estimator:hover {background-color: #d4ebff;}#sk-container-id-7 div.sk-parallel-item::after {content: \"\";width: 100%;border-bottom: 1px solid gray;flex-grow: 1;}#sk-container-id-7 div.sk-label:hover label.sk-toggleable__label {background-color: #d4ebff;}#sk-container-id-7 div.sk-serial::before {content: \"\";position: absolute;border-left: 1px solid gray;box-sizing: border-box;top: 0;bottom: 0;left: 50%;z-index: 0;}#sk-container-id-7 div.sk-serial {display: flex;flex-direction: column;align-items: center;background-color: white;padding-right: 0.2em;padding-left: 0.2em;position: relative;}#sk-container-id-7 div.sk-item {position: relative;z-index: 1;}#sk-container-id-7 div.sk-parallel {display: flex;align-items: stretch;justify-content: center;background-color: white;position: relative;}#sk-container-id-7 div.sk-item::before, #sk-container-id-7 div.sk-parallel-item::before {content: \"\";position: absolute;border-left: 1px solid gray;box-sizing: border-box;top: 0;bottom: 0;left: 50%;z-index: -1;}#sk-container-id-7 div.sk-parallel-item {display: flex;flex-direction: column;z-index: 1;position: relative;background-color: white;}#sk-container-id-7 div.sk-parallel-item:first-child::after {align-self: flex-end;width: 50%;}#sk-container-id-7 div.sk-parallel-item:last-child::after {align-self: flex-start;width: 50%;}#sk-container-id-7 div.sk-parallel-item:only-child::after {width: 0;}#sk-container-id-7 div.sk-dashed-wrapped {border: 1px dashed gray;margin: 0 0.4em 0.5em 0.4em;box-sizing: border-box;padding-bottom: 0.4em;background-color: white;}#sk-container-id-7 div.sk-label label {font-family: monospace;font-weight: bold;display: inline-block;line-height: 1.2em;}#sk-container-id-7 div.sk-label-container {text-align: center;}#sk-container-id-7 div.sk-container {/* jupyter's `normalize.less` sets `[hidden] { display: none; }` but bootstrap.min.css set `[hidden] { display: none !important; }` so we also need the `!important` here to be able to override the default hidden behavior on the sphinx rendered scikit-learn.org. See: https://github.com/scikit-learn/scikit-learn/issues/21755 */display: inline-block !important;position: relative;}#sk-container-id-7 div.sk-text-repr-fallback {display: none;}</style><div id=\"sk-container-id-7\" class=\"sk-top-container\"><div class=\"sk-text-repr-fallback\"><pre>RandomForestClassifier()</pre><b>In a Jupyter environment, please rerun this cell to show the HTML representation or trust the notebook. <br />On GitHub, the HTML representation is unable to render, please try loading this page with nbviewer.org.</b></div><div class=\"sk-container\" hidden><div class=\"sk-item\"><div class=\"sk-estimator sk-toggleable\"><input class=\"sk-toggleable__control sk-hidden--visually\" id=\"sk-estimator-id-7\" type=\"checkbox\" checked><label for=\"sk-estimator-id-7\" class=\"sk-toggleable__label sk-toggleable__label-arrow\">RandomForestClassifier</label><div class=\"sk-toggleable__content\"><pre>RandomForestClassifier()</pre></div></div></div></div></div>"
            ]
          },
          "metadata": {},
          "execution_count": 216
        }
      ]
    },
    {
      "cell_type": "code",
      "source": [
        "sns.heatmap(confusion_matrix(y_test, rfc.predict(X_test)), square=True, annot=True, fmt='.0f', cmap=plt.cm.Blues)\n",
        "plt.xlabel(\"Predicted label\")\n",
        "plt.ylabel(\"True label\")\n",
        "pass\n",
        "print(confusion_matrix(y_test, rfc.predict(X_test)))"
      ],
      "metadata": {
        "colab": {
          "base_uri": "https://localhost:8080/",
          "height": 760
        },
        "id": "_x7_2a7OTDIS",
        "outputId": "e8d1b072-13d0-4610-a3f3-e8ca447fcbf3"
      },
      "execution_count": 217,
      "outputs": [
        {
          "output_type": "stream",
          "name": "stdout",
          "text": [
            "[[1196    2]\n",
            " [  80    0]]\n"
          ]
        },
        {
          "output_type": "display_data",
          "data": {
            "text/plain": [
              "<Figure size 1170x827 with 2 Axes>"
            ],
            "image/png": "[encoded data removed]"
          },
          "metadata": {}
        }
      ]
    },
    {
      "cell_type": "code",
      "source": [
        "err_train = np.mean(y_train != rfc.predict(X_train))\n",
        "err_test  = np.mean(y_test  != rfc.predict(X_test))\n",
        "\n",
        "print(err_train, err_test)"
      ],
      "metadata": {
        "colab": {
          "base_uri": "https://localhost:8080/"
        },
        "id": "Gn_3MXDOUg36",
        "outputId": "57bb3176-280a-43c8-c4fc-3304e9627c90"
      },
      "execution_count": 218,
      "outputs": [
        {
          "output_type": "stream",
          "name": "stdout",
          "text": [
            "0.0 0.06416275430359937\n"
          ]
        }
      ]
    },
    {
      "cell_type": "markdown",
      "source": [
        "Случайный лес сумел один раз правильно предсказать наличие инсульта, в отличие от KNN и SVC, хотя всё ещё в этом плане уступает XGBOOST, хотя ошибка на тесте в данном случае ниже. Ошибка на тесте нулевая, что может, опять же, свидетельствовать о переобучении."
      ],
      "metadata": {
        "id": "fRX-_W_QiEBq"
      }
    },
    {
      "cell_type": "markdown",
      "source": [
        "##10.Попытка борьбы с несбалансированностью классов."
      ],
      "metadata": {
        "id": "QokVlCSWI-yN"
      }
    },
    {
      "cell_type": "code",
      "source": [
        "from sklearn.metrics import classification_report\n",
        "\n",
        "report = classification_report(y_test, knn2.predict(X_test))\n",
        "print(report)"
      ],
      "metadata": {
        "colab": {
          "base_uri": "https://localhost:8080/"
        },
        "id": "KPyyaHjnFXIC",
        "outputId": "99ee897f-f831-4a85-f9db-4f3454e86e44"
      },
      "execution_count": 219,
      "outputs": [
        {
          "output_type": "stream",
          "name": "stdout",
          "text": [
            "              precision    recall  f1-score   support\n",
            "\n",
            "           0       0.94      1.00      0.97      1198\n",
            "           1       0.00      0.00      0.00        80\n",
            "\n",
            "    accuracy                           0.94      1278\n",
            "   macro avg       0.47      0.50      0.48      1278\n",
            "weighted avg       0.88      0.94      0.91      1278\n",
            "\n"
          ]
        },
        {
          "output_type": "stream",
          "name": "stderr",
          "text": [
            "/usr/local/lib/python3.10/dist-packages/sklearn/metrics/_classification.py:1344: UndefinedMetricWarning: Precision and F-score are ill-defined and being set to 0.0 in labels with no predicted samples. Use `zero_division` parameter to control this behavior.\n",
            "  _warn_prf(average, modifier, msg_start, len(result))\n",
            "/usr/local/lib/python3.10/dist-packages/sklearn/metrics/_classification.py:1344: UndefinedMetricWarning: Precision and F-score are ill-defined and being set to 0.0 in labels with no predicted samples. Use `zero_division` parameter to control this behavior.\n",
            "  _warn_prf(average, modifier, msg_start, len(result))\n",
            "/usr/local/lib/python3.10/dist-packages/sklearn/metrics/_classification.py:1344: UndefinedMetricWarning: Precision and F-score are ill-defined and being set to 0.0 in labels with no predicted samples. Use `zero_division` parameter to control this behavior.\n",
            "  _warn_prf(average, modifier, msg_start, len(result))\n"
          ]
        }
      ]
    },
    {
      "cell_type": "code",
      "source": [
        "from sklearn.metrics import roc_auc_score, roc_curve\n",
        "import matplotlib.pyplot as plt\n",
        "\n",
        "fpr, tpr, thresholds = roc_curve(y_test, knn2.predict(X_test))  # вычисляем значения FPR и TPR для различных порогов\n",
        "\n",
        "auc = roc_auc_score(y_test, knn2.predict(X_test))  # вычисляем AUC-ROC\n",
        "\n",
        "# строим ROC-кривую\n",
        "plt.figure()\n",
        "plt.plot(fpr, tpr, label='ROC curve (area = %0.2f)' % auc)\n",
        "plt.plot([0, 1], [0, 1], 'k--')\n",
        "plt.xlim([0.0, 1.0])\n",
        "plt.ylim([0.0, 1.05])\n",
        "plt.xlabel('False Positive Rate')\n",
        "plt.ylabel('True Positive Rate')\n",
        "plt.title('Receiver Operating Characteristic (ROC)')\n",
        "plt.legend(loc=\"lower right\")\n",
        "plt.show()"
      ],
      "metadata": {
        "colab": {
          "base_uri": "https://localhost:8080/",
          "height": 747
        },
        "id": "hwRVbH9-GecY",
        "outputId": "4a1db288-ec44-4156-9455-cd94f0c042fa"
      },
      "execution_count": 220,
      "outputs": [
        {
          "output_type": "display_data",
          "data": {
            "text/plain": [
              "<Figure size 1170x827 with 1 Axes>"
            ],
            "image/png": "[encoded data removed]"
          },
          "metadata": {}
        }
      ]
    },
    {
      "cell_type": "markdown",
      "source": [
        "Для KNN видим, что F1-мера равна 0 для класса 1, соответствующего наличию инсульта, да и график ROC-кривой показывает, что всё довольно печально. Причиной этого может быть несбалансированность классов, с которой попробуем побороться. Для этого используем SMOTE, в котором генерируем синтетические примеры класса-меьшинства на основе близлежащих соседей."
      ],
      "metadata": {
        "id": "vv26-howjDqR"
      }
    },
    {
      "cell_type": "code",
      "source": [
        "from imblearn.over_sampling import SMOTE\n",
        "X_resampled, y_resampled = SMOTE().fit_resample(X, y)"
      ],
      "metadata": {
        "id": "J3sGWVF4not1"
      },
      "execution_count": 221,
      "outputs": []
    },
    {
      "cell_type": "code",
      "source": [
        "pd.Series(y_resampled).value_counts().plot(kind='bar', title='Распределение классов после SMOTE', xlabel='stroke')"
      ],
      "metadata": {
        "colab": {
          "base_uri": "https://localhost:8080/",
          "height": 759
        },
        "id": "xzvAzk95nw8q",
        "outputId": "d260cc54-9a16-4204-8575-8d04d6c80421"
      },
      "execution_count": 222,
      "outputs": [
        {
          "output_type": "execute_result",
          "data": {
            "text/plain": [
              "<Axes: title={'center': 'Распределение классов после SMOTE'}, xlabel='stroke'>"
            ]
          },
          "metadata": {},
          "execution_count": 222
        },
        {
          "output_type": "display_data",
          "data": {
            "text/plain": [
              "<Figure size 1170x827 with 1 Axes>"
            ],
            "image/png": "[encoded data removed]"
          },
          "metadata": {}
        }
      ]
    },
    {
      "cell_type": "markdown",
      "source": [
        "Разделим сбалансированные данные на обучающую и тестовуюе выборки:"
      ],
      "metadata": {
        "id": "8X5DQ2DNoSqU"
      }
    },
    {
      "cell_type": "code",
      "source": [
        "X_train, X_test, y_train, y_test = train_test_split(X_resampled, y_resampled, test_size = 0.3, random_state = 777)\n",
        "\n",
        "N_train = X_train.shape[0]\n",
        "N_test = X_test.shape[0]\n",
        "\n",
        "print(N_train, N_test)"
      ],
      "metadata": {
        "colab": {
          "base_uri": "https://localhost:8080/"
        },
        "id": "LQp0hD0ooR6b",
        "outputId": "6c3c17d3-aaaf-4a8c-9b23-beff4bbd0d5c"
      },
      "execution_count": 223,
      "outputs": [
        {
          "output_type": "stream",
          "name": "stdout",
          "text": [
            "6804 2916\n"
          ]
        }
      ]
    },
    {
      "cell_type": "markdown",
      "source": [
        "###KNN"
      ],
      "metadata": {
        "id": "VZpCbJDlNQa3"
      }
    },
    {
      "cell_type": "code",
      "source": [
        "knn2 = KNeighborsClassifier(n_neighbors = best_n_neighbors).fit(X_train, y_train)\n",
        "\n",
        "err_train2 = np.mean(y_train != knn2.predict(X_train))\n",
        "err_test2  = np.mean(y_test  != knn2.predict(X_test))\n",
        "\n",
        "print(err_train2, err_test2)"
      ],
      "metadata": {
        "colab": {
          "base_uri": "https://localhost:8080/"
        },
        "id": "0mKXyidZNTAK",
        "outputId": "41e1aad7-2635-4400-ed3e-eb7f6053eda3"
      },
      "execution_count": 224,
      "outputs": [
        {
          "output_type": "stream",
          "name": "stdout",
          "text": [
            "0.11772486772486772 0.1416323731138546\n"
          ]
        }
      ]
    },
    {
      "cell_type": "code",
      "source": [
        "sns.heatmap(confusion_matrix(y_test, knn2.predict(X_test)), square=True, annot=True, fmt='.0f', cmap=plt.cm.Blues)\n",
        "plt.xlabel(\"Predicted label\")\n",
        "plt.ylabel(\"True label\")\n",
        "pass\n",
        "print(confusion_matrix(y_test,knn2.predict(X_test)))"
      ],
      "metadata": {
        "colab": {
          "base_uri": "https://localhost:8080/",
          "height": 760
        },
        "id": "yvCnqQYvoi2_",
        "outputId": "249ef529-e05e-42fc-be93-c0eed3ee3eb3"
      },
      "execution_count": 225,
      "outputs": [
        {
          "output_type": "stream",
          "name": "stdout",
          "text": [
            "[[1064  378]\n",
            " [  35 1439]]\n"
          ]
        },
        {
          "output_type": "display_data",
          "data": {
            "text/plain": [
              "<Figure size 1170x827 with 2 Axes>"
            ],
            "image/png": "[encoded data removed]"
          },
          "metadata": {}
        }
      ]
    },
    {
      "cell_type": "markdown",
      "source": [
        "Ошибка выросла, однако можно видеть, что модель теперь нормально предсказывает наличие инсульта."
      ],
      "metadata": {
        "id": "D9tUZiniozOI"
      }
    },
    {
      "cell_type": "code",
      "source": [
        "from sklearn.metrics import classification_report\n",
        "\n",
        "report = classification_report(y_test, knn2.predict(X_test))\n",
        "print(report)"
      ],
      "metadata": {
        "colab": {
          "base_uri": "https://localhost:8080/"
        },
        "id": "-5BCElEsptQL",
        "outputId": "f6779264-2607-4b4a-d3dc-d0ab3ba1a132"
      },
      "execution_count": 226,
      "outputs": [
        {
          "output_type": "stream",
          "name": "stdout",
          "text": [
            "              precision    recall  f1-score   support\n",
            "\n",
            "           0       0.97      0.74      0.84      1442\n",
            "           1       0.79      0.98      0.87      1474\n",
            "\n",
            "    accuracy                           0.86      2916\n",
            "   macro avg       0.88      0.86      0.86      2916\n",
            "weighted avg       0.88      0.86      0.86      2916\n",
            "\n"
          ]
        }
      ]
    },
    {
      "cell_type": "markdown",
      "source": [
        "F1-мера также теперь выглядит адекватно."
      ],
      "metadata": {
        "id": "7PAqYhLBpvMy"
      }
    },
    {
      "cell_type": "code",
      "source": [
        "fpr, tpr, thresholds = roc_curve(y_test, knn2.predict(X_test))  # вычисляем значения FPR и TPR для различных порогов\n",
        "\n",
        "auc = roc_auc_score(y_test, knn2.predict(X_test))  # вычисляем AUC-ROC\n",
        "\n",
        "# строим ROC-кривую\n",
        "plt.figure()\n",
        "plt.plot(fpr, tpr, label='ROC curve (area = %0.2f)' % auc)\n",
        "plt.plot([0, 1], [0, 1], 'k--')\n",
        "plt.xlim([0.0, 1.0])\n",
        "plt.ylim([0.0, 1.05])\n",
        "plt.xlabel('False Positive Rate')\n",
        "plt.ylabel('True Positive Rate')\n",
        "plt.title('Receiver Operating Characteristic (ROC)')\n",
        "plt.legend(loc=\"lower right\")\n",
        "plt.show()"
      ],
      "metadata": {
        "colab": {
          "base_uri": "https://localhost:8080/",
          "height": 747
        },
        "id": "5Qa-CVB3p4D7",
        "outputId": "b4844f16-68bd-4bbd-8c73-03fc3ff5b7c4"
      },
      "execution_count": 227,
      "outputs": [
        {
          "output_type": "display_data",
          "data": {
            "text/plain": [
              "<Figure size 1170x827 with 1 Axes>"
            ],
            "image/png": "[encoded data removed]"
          },
          "metadata": {}
        }
      ]
    },
    {
      "cell_type": "markdown",
      "source": [
        " ROC-кривая тоже выглядит лучше."
      ],
      "metadata": {
        "id": "HP5X48imp6zV"
      }
    },
    {
      "cell_type": "markdown",
      "source": [
        "###SVC"
      ],
      "metadata": {
        "id": "N8yH6HLYNTUC"
      }
    },
    {
      "cell_type": "code",
      "source": [
        "svc = SVC(gamma='auto')\n",
        "svc.fit(X_train, y_train)\n",
        "\n",
        "err_train = np.mean(y_train != svc.predict(X_train))\n",
        "err_test  = np.mean(y_test  != svc.predict(X_test))\n",
        "\n",
        "print(err_train, err_test)"
      ],
      "metadata": {
        "colab": {
          "base_uri": "https://localhost:8080/"
        },
        "id": "11jCVWOrNUM8",
        "outputId": "78497694-1b02-4a07-8192-8a2251af8e07"
      },
      "execution_count": 228,
      "outputs": [
        {
          "output_type": "stream",
          "name": "stdout",
          "text": [
            "0.1493239271017049 0.16392318244170095\n"
          ]
        }
      ]
    },
    {
      "cell_type": "code",
      "source": [
        "sns.heatmap(confusion_matrix(y_test, svc.predict(X_test)), square=True, annot=True, fmt='.0f', cmap=plt.cm.Blues)\n",
        "plt.xlabel(\"Predicted label\")\n",
        "plt.ylabel(\"True label\")\n",
        "pass\n",
        "print(confusion_matrix(y_test,svc.predict(X_test)))"
      ],
      "metadata": {
        "colab": {
          "base_uri": "https://localhost:8080/",
          "height": 760
        },
        "id": "PF54nri5pdOx",
        "outputId": "fc363041-c727-4ca3-eb0c-a9d2a4a47903"
      },
      "execution_count": 229,
      "outputs": [
        {
          "output_type": "stream",
          "name": "stdout",
          "text": [
            "[[1100  342]\n",
            " [ 136 1338]]\n"
          ]
        },
        {
          "output_type": "display_data",
          "data": {
            "text/plain": [
              "<Figure size 1170x827 with 2 Axes>"
            ],
            "image/png": "[encoded data removed]"
          },
          "metadata": {}
        }
      ]
    },
    {
      "cell_type": "markdown",
      "source": [
        "Ошибка также повысилась, и даже выше, чем у KNN, но аналогично теперь класс 1 стал нормально предсказываться."
      ],
      "metadata": {
        "id": "xAyLH326pgf8"
      }
    },
    {
      "cell_type": "markdown",
      "source": [
        "###XGBOOST"
      ],
      "metadata": {
        "id": "kGhze1x7NUjG"
      }
    },
    {
      "cell_type": "code",
      "source": [
        "xgb = xgboost.XGBClassifier(enable_categorical = True)\n",
        "xgb.fit(X_train, y_train)\n",
        "err_train = np.mean(y_train != xgb.predict(X_train))\n",
        "err_test  = np.mean(y_test  != xgb.predict(X_test))\n",
        "\n",
        "print(err_train, err_test)"
      ],
      "metadata": {
        "colab": {
          "base_uri": "https://localhost:8080/"
        },
        "id": "0H6PjDieNYfk",
        "outputId": "5c4195e4-8ea6-446d-ee3c-4802ab75ebbe"
      },
      "execution_count": 234,
      "outputs": [
        {
          "output_type": "stream",
          "name": "stdout",
          "text": [
            "0.00205761316872428 0.05212620027434842\n"
          ]
        }
      ]
    },
    {
      "cell_type": "code",
      "source": [
        "sns.heatmap(confusion_matrix(y_test, xgb.predict(X_test)), square=True, annot=True, fmt='.0f', cmap=plt.cm.Blues)\n",
        "plt.xlabel(\"Predicted label\")\n",
        "plt.ylabel(\"True label\")\n",
        "pass\n",
        "print(confusion_matrix(y_test, xgb.predict(X_test)))"
      ],
      "metadata": {
        "colab": {
          "base_uri": "https://localhost:8080/",
          "height": 760
        },
        "id": "REplh2DlqJNs",
        "outputId": "5b9f4c99-9a83-4354-953d-8ab52cf8dfce"
      },
      "execution_count": 235,
      "outputs": [
        {
          "output_type": "stream",
          "name": "stdout",
          "text": [
            "[[1375   67]\n",
            " [  85 1389]]\n"
          ]
        },
        {
          "output_type": "display_data",
          "data": {
            "text/plain": [
              "<Figure size 1170x827 with 2 Axes>"
            ],
            "image/png": "[encoded data removed]"
          },
          "metadata": {}
        }
      ]
    },
    {
      "cell_type": "markdown",
      "source": [
        "XGBOOST в сравнении с предыдущими показывает гораздо меньшие значения ошибки, хотя ошибка на обучающей выборке все еще меньше, чем на тестовой, что наталкивает на мысли о наличии переобучения."
      ],
      "metadata": {
        "id": "duIqiZ1kqL7V"
      }
    },
    {
      "cell_type": "markdown",
      "source": [
        "###Random Forest"
      ],
      "metadata": {
        "id": "Xx_TlkuBNUa1"
      }
    },
    {
      "cell_type": "code",
      "source": [
        "from sklearn.ensemble import RandomForestClassifier\n",
        "rfc = RandomForestClassifier()\n",
        "rfc.fit(X_train, y_train.values.ravel())\n",
        "err_train = np.mean(y_train != rfc.predict(X_train))\n",
        "err_test  = np.mean(y_test  != rfc.predict(X_test))\n",
        "\n",
        "print(err_train, err_test)"
      ],
      "metadata": {
        "colab": {
          "base_uri": "https://localhost:8080/"
        },
        "id": "psv_nUYMNZIW",
        "outputId": "30351c17-90c8-4529-b83f-71de982820d7"
      },
      "execution_count": 232,
      "outputs": [
        {
          "output_type": "stream",
          "name": "stdout",
          "text": [
            "0.0 0.046296296296296294\n"
          ]
        }
      ]
    },
    {
      "cell_type": "code",
      "source": [
        "sns.heatmap(confusion_matrix(y_test, rfc.predict(X_test)), square=True, annot=True, fmt='.0f', cmap=plt.cm.Blues)\n",
        "plt.xlabel(\"Predicted label\")\n",
        "plt.ylabel(\"True label\")\n",
        "pass\n",
        "print(confusion_matrix(y_test, rfc.predict(X_test)))"
      ],
      "metadata": {
        "colab": {
          "base_uri": "https://localhost:8080/",
          "height": 760
        },
        "id": "ISZL8RMuqzpR",
        "outputId": "4bbef1cc-4978-4fb5-9bf9-a9479062594b"
      },
      "execution_count": 233,
      "outputs": [
        {
          "output_type": "stream",
          "name": "stdout",
          "text": [
            "[[1360   82]\n",
            " [  53 1421]]\n"
          ]
        },
        {
          "output_type": "display_data",
          "data": {
            "text/plain": [
              "<Figure size 1170x827 with 2 Axes>"
            ],
            "image/png": "[encoded data removed]"
          },
          "metadata": {}
        }
      ]
    },
    {
      "cell_type": "markdown",
      "source": [
        "Ошибка на обучающей выборке также нулевая(возможно переобучение), ошибка на тестовой меньше, чем у XGBOOST, KNN и SVC, тем не менее результат неплохой."
      ],
      "metadata": {
        "id": "dqgb-Iwbq1b-"
      }
    },
    {
      "cell_type": "markdown",
      "source": [
        "##11.Общий вывод."
      ],
      "metadata": {
        "id": "Ns6Kgp7_Q5Pj"
      }
    },
    {
      "cell_type": "markdown",
      "source": [
        "Несбалансированность классов сильно влияет на качество модели, при преобладании одного класса KNN напрмер вообще не предсказывал случаи появления класса-меньшинства, поэтмоу несмотря на то, что в реальной жизни абсолютно естественно когда количество людей, перенесших инсульт сильно меньше, чем количество тех, у кого его не было, классы надо все же балансировать, чтобы модель могла адекватно работать с классом, редко появляющимся в исходных данных. Многие модели начинают работать плохо из-за несбалансированности классов, как например Random Forest, и даже XGBOOST, который лучше всех справляется с подобными случаями, помогает не сильно и лучше работает при наличии баланса."
      ],
      "metadata": {
        "id": "LhHlqRiyQ-hS"
      }
    }
  ]
}